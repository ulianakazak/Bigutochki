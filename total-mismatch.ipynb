{
 "cells": [
  {
   "cell_type": "code",
   "execution_count": 9,
   "metadata": {},
   "outputs": [
    {
     "name": "stderr",
     "output_type": "stream",
     "text": [
      "[nltk_data] Downloading package wordnet to\n",
      "[nltk_data]     C:\\Users\\kazak_hpyyfpn\\AppData\\Roaming\\nltk_data...\n",
      "[nltk_data]   Package wordnet is already up-to-date!\n"
     ]
    }
   ],
   "source": [
    "import gensim\n",
    "import pandas as pd\n",
    "import numpy as np\n",
    "import matplotlib.pyplot as plt\n",
    "import seaborn as sns\n",
    "%matplotlib inline\n",
    "\n",
    "from scipy import spatial\n",
    "from scipy.sparse import hstack, lil_matrix, csr_matrix\n",
    "\n",
    "from sklearn.linear_model import LogisticRegression, LinearRegression\n",
    "from sklearn.model_selection import cross_val_score, GridSearchCV\n",
    "from sklearn.metrics import precision_recall_fscore_support\n",
    "from sklearn.metrics import fbeta_score, make_scorer, accuracy_score\n",
    "from sklearn.metrics.pairwise import paired_distances\n",
    "from sklearn.feature_extraction.text import TfidfVectorizer\n",
    "\n",
    "import nltk\n",
    "from nltk.corpus import stopwords\n",
    "nltk.download('wordnet')\n",
    "from nltk.stem import WordNetLemmatizer \n",
    "lemmatizer = WordNetLemmatizer()\n",
    "from nltk.tokenize import RegexpTokenizer\n",
    "tokenizer = RegexpTokenizer(r'\\w+')\n",
    "\n",
    "import csv\n",
    "import urllib.request\n",
    "import io\n",
    "import zipfile\n",
    "import os"
   ]
  },
  {
   "cell_type": "code",
   "execution_count": 10,
   "metadata": {},
   "outputs": [
    {
     "name": "stdout",
     "output_type": "stream",
     "text": [
      "Requirement already satisfied: gensim in d:\\anaconda\\lib\\site-packages (3.8.3)\n",
      "Requirement already satisfied: smart-open>=1.8.1 in d:\\anaconda\\lib\\site-packages (from gensim) (4.2.0)\n",
      "Requirement already satisfied: scipy>=0.18.1 in d:\\anaconda\\lib\\site-packages (from gensim) (1.5.2)\n",
      "Requirement already satisfied: six>=1.5.0 in d:\\anaconda\\lib\\site-packages (from gensim) (1.15.0)\n",
      "Requirement already satisfied: Cython==0.29.14 in d:\\anaconda\\lib\\site-packages (from gensim) (0.29.14)\n",
      "Requirement already satisfied: numpy>=1.11.3 in d:\\anaconda\\lib\\site-packages (from gensim) (1.19.2)\n"
     ]
    }
   ],
   "source": [
    "!pip install gensim"
   ]
  },
  {
   "cell_type": "markdown",
   "metadata": {},
   "source": [
    "## Preprocessing"
   ]
  },
  {
   "cell_type": "markdown",
   "metadata": {},
   "source": [
    "Читаем данные и приводим их к нужному формату."
   ]
  },
  {
   "cell_type": "code",
   "execution_count": 22,
   "metadata": {},
   "outputs": [],
   "source": [
    "train = pd.read_json('multinli_1.0/multinli_1.0_train.jsonl', lines = True)\n",
    "val_mismatched = pd.read_json('multinli_1.0/multinli_1.0_dev_mismatched.jsonl', lines = True)\n",
    "val_matched = pd.read_json('multinli_1.0/multinli_1.0_dev_matched.jsonl', lines = True)\n",
    "test_mismatched = pd.read_json('multinli_0.9_test_mismatched_unlabeled.jsonl', lines = True)\n",
    "test_matched = pd.read_json('multinli_0.9_test_matched_unlabeled.jsonl', lines = True)\n",
    "full = {'train': train, 'val_matched':val_matched, 'test_matched': test_matched, 'val_mismatched':val_mismatched, 'test_mismatched': test_mismatched}"
   ]
  },
  {
   "cell_type": "markdown",
   "metadata": {},
   "source": [
    "Удаляем объекты, для которых не определен класс."
   ]
  },
  {
   "cell_type": "code",
   "execution_count": 23,
   "metadata": {},
   "outputs": [],
   "source": [
    "def delete_unsure_labels(data): \n",
    "    data = data.drop(index = data[data.gold_label == '-'].index)\n",
    "    return data\n",
    "\n",
    "\n",
    "for frame in full:\n",
    "    full[frame] = delete_unsure_labels(full[frame])"
   ]
  },
  {
   "cell_type": "code",
   "execution_count": 24,
   "metadata": {},
   "outputs": [],
   "source": [
    "train = full['train']\n",
    "val_matched = full['val_matched']\n",
    "val_mismatched = full['val_mismatched']\n",
    "test_matched = full['test_matched']\n",
    "test_mismatched = full['test_mismatched']"
   ]
  },
  {
   "cell_type": "markdown",
   "metadata": {},
   "source": [
    "## Метрика"
   ]
  },
  {
   "cell_type": "markdown",
   "metadata": {},
   "source": [
    "Создаем свою метрику с весами 0.8, 0.1 и 0.1."
   ]
  },
  {
   "cell_type": "code",
   "execution_count": 25,
   "metadata": {},
   "outputs": [],
   "source": [
    "def print_metric(y_true, y_preds):\n",
    "    prfs = precision_recall_fscore_support(y_true, y_preds, beta=3, average=None, labels=['contradiction', 'neutral', 'entailment'])\n",
    "    matrix_report = pd.DataFrame(prfs, columns = ['contradiction', 'neutral', 'entailment'], index = ['precision', 'recall', 'fscore', 'support'])\n",
    "    matrix_report['Weighted*'] = 0.8 * matrix_report['contradiction'] +  0.1 * matrix_report['neutral'] +  0.1 * matrix_report['entailment']\n",
    "    matrix_report.drop(index = 'support', inplace = True)\n",
    "    print(f\"{matrix_report.loc['fscore', 'Weighted*']:.4f}   Custom f-score\")\n",
    "    print(f\"{matrix_report.loc['recall', 'contradiction']:.4f}   Contradiction's recall\")\n",
    "    print(f\"{accuracy_score(y_true, y_preds):.4f}   Accuracy\")\n",
    "    print(matrix_report.T)"
   ]
  },
  {
   "cell_type": "code",
   "execution_count": 26,
   "metadata": {},
   "outputs": [],
   "source": [
    "f_scorer = make_scorer(fbeta_score, beta=3, average='weighted', labels=['contradiction', 'neutral', 'entailment'])"
   ]
  },
  {
   "cell_type": "markdown",
   "metadata": {},
   "source": [
    "## Training"
   ]
  },
  {
   "cell_type": "markdown",
   "metadata": {},
   "source": [
    "Функция обучения модели"
   ]
  },
  {
   "cell_type": "code",
   "execution_count": 27,
   "metadata": {},
   "outputs": [],
   "source": [
    "def log_reg_cv_and_validation(X_train, X_val, y_train, max_itr = 100):\n",
    "    clf = LogisticRegression(solver = 'saga', max_iter = max_itr)\n",
    "\n",
    "    scores = cross_val_score(clf, X_train, y_train, cv=3, scoring= f_scorer)\n",
    "    print(f'Cross val scores: {scores}')\n",
    "    print(f'Mean cross val score: {scores.mean():.4f}')\n",
    "    print('-'*40)\n",
    "\n",
    "    clf.fit(X_train, y_train)\n",
    "    y_train_preds = clf.predict(X_train)\n",
    "    y_val_preds = clf.predict(X_val)\n",
    "\n",
    "    print('Train score')\n",
    "    print_metric(y_train, y_train_preds)\n",
    "    print('-'*40)\n",
    "\n",
    "    print('Val score')\n",
    "    print_metric(y_val, y_val_preds)"
   ]
  },
  {
   "cell_type": "markdown",
   "metadata": {},
   "source": [
    "## Word2vec"
   ]
  },
  {
   "cell_type": "markdown",
   "metadata": {},
   "source": [
    "Получаем вектора на основе word2vec и обучаем модель."
   ]
  },
  {
   "cell_type": "markdown",
   "metadata": {},
   "source": [
    "Скачиваем модель"
   ]
  },
  {
   "cell_type": "code",
   "execution_count": 28,
   "metadata": {},
   "outputs": [],
   "source": [
    "zipFileURL = \"https://dl.fbaipublicfiles.com/fasttext/vectors-english/wiki-news-300d-1M.vec.zip\"\n",
    "resp = urllib.request.urlopen(zipFileURL)\n",
    "z_file = zipfile.ZipFile(io.BytesIO(resp.read()))"
   ]
  },
  {
   "cell_type": "code",
   "execution_count": 29,
   "metadata": {},
   "outputs": [],
   "source": [
    "os.mkdir('w2v')\n",
    "z_file.extractall(path = 'w2v')"
   ]
  },
  {
   "cell_type": "code",
   "execution_count": 30,
   "metadata": {},
   "outputs": [],
   "source": [
    "model = gensim.models.KeyedVectors.load_word2vec_format('w2v/wiki-news-300d-1M.vec', binary=False)"
   ]
  },
  {
   "cell_type": "markdown",
   "metadata": {},
   "source": [
    "Добавляем в данные столбцы с лемматизированными предложениями и со средними векторами каждого предложения"
   ]
  },
  {
   "cell_type": "code",
   "execution_count": 31,
   "metadata": {},
   "outputs": [],
   "source": [
    "def avg_vec(words, model, num_features): # считает средний вектор\n",
    "    feature_vec = np.zeros((num_features, ), dtype='float32')\n",
    "    n_words = 0\n",
    "    for word in words:\n",
    "        if word in model:\n",
    "            n_words += 1\n",
    "            feature_vec = np.add(feature_vec, model[word])\n",
    "    if (n_words > 0):\n",
    "        feature_vec = np.divide(feature_vec, n_words)\n",
    "    return feature_vec"
   ]
  },
  {
   "cell_type": "code",
   "execution_count": 32,
   "metadata": {},
   "outputs": [],
   "source": [
    "def add_avg_vec(data, sent, model): # добавляет вектора в датафрейм\n",
    "    data[f'{sent}_lemmas'] = data[sent].apply(lambda x: tokenizer.tokenize(x.lower()))\n",
    "    data[f'{sent}_avgvec'] = data[f'{sent}_lemmas'].apply(lambda x: avg_vec(x, model, 300))"
   ]
  },
  {
   "cell_type": "code",
   "execution_count": 34,
   "metadata": {},
   "outputs": [],
   "source": [
    "#for data in [train, val_mismatched, test_mismatched]:\n",
    "for data in [train, val_matched, test_matched]:\n",
    "    for sent in ['sentence1', 'sentence2']:\n",
    "        add_avg_vec(data, sent, model)"
   ]
  },
  {
   "cell_type": "code",
   "execution_count": 35,
   "metadata": {},
   "outputs": [],
   "source": [
    "def count_distances(data): \n",
    "    # преобразует предложения и считает расстояния(евклидово, матхэт., косинусное) между преобразованными предложениями\n",
    "    vec_1 = np.array(data['sentence1_avgvec'].tolist())\n",
    "    vec_2 = np.array(data['sentence2_avgvec'].tolist())\n",
    "    euclidean = paired_distances(vec_1, vec_2, metric='euclidean')\n",
    "    manhattan= paired_distances(vec_1, vec_2, metric='manhattan')\n",
    "    cosine = paired_distances(vec_1, vec_2, metric='cosine')\n",
    "\n",
    "    distances =  np.array([euclidean, manhattan, cosine]).T\n",
    "    return distances"
   ]
  },
  {
   "cell_type": "markdown",
   "metadata": {},
   "source": [
    "Считаем расстояния и обучаем модель"
   ]
  },
  {
   "cell_type": "code",
   "execution_count": 36,
   "metadata": {},
   "outputs": [],
   "source": [
    "X_train = count_distances(train)\n",
    "y_train = np.array(train['gold_label'])\n",
    "X_val = count_distances(val_matched)\n",
    "y_val = np.array(val_matched['gold_label'])\n",
    "#X_val = count_distances(val_mismatched)\n",
    "#y_val = np.array(val_mismatched['gold_label'])\n",
    "X_test = count_distances(test_matched)\n",
    "y_test = np.array(test_matched['gold_label'])\n",
    "#X_test = count_distances(test_mismatched)\n",
    "#y_test = np.array(test_mismatched['gold_label'])"
   ]
  },
  {
   "cell_type": "code",
   "execution_count": 37,
   "metadata": {},
   "outputs": [
    {
     "name": "stdout",
     "output_type": "stream",
     "text": [
      "Cross val scores: [0.41394902 0.41378991 0.4152407 ]\n",
      "Mean cross val score: 0.4143\n",
      "----------------------------------------\n",
      "Train score\n",
      "0.2989   Custom f-score\n",
      "0.2403   Contradiction's recall\n",
      "0.4210   Accuracy\n",
      "               precision    recall    fscore\n",
      "contradiction   0.381925  0.240315  0.249569\n",
      "neutral         0.442135  0.345149  0.352890\n",
      "entailment      0.426175  0.677683  0.639918\n",
      "Weighted*       0.392371  0.294535  0.298936\n",
      "----------------------------------------\n",
      "Val score\n",
      "0.3095   Custom f-score\n",
      "0.2527   Contradiction's recall\n",
      "0.4339   Accuracy\n",
      "               precision    recall    fscore\n",
      "contradiction   0.375578  0.252723  0.261270\n",
      "neutral         0.449487  0.364713  0.371724\n",
      "entailment      0.450869  0.663409  0.633544\n",
      "Weighted*       0.390498  0.304991  0.309543\n"
     ]
    }
   ],
   "source": [
    "log_reg_cv_and_validation(X_train, X_val, y_train = y_train, max_itr = 500)"
   ]
  },
  {
   "cell_type": "markdown",
   "metadata": {},
   "source": [
    "## TF-IDF"
   ]
  },
  {
   "cell_type": "markdown",
   "metadata": {},
   "source": [
    "Считаем расстояния на основе метрики TF-IDF и обучаем модель"
   ]
  },
  {
   "cell_type": "code",
   "execution_count": 38,
   "metadata": {},
   "outputs": [],
   "source": [
    "corpus = train.sentence1 +\" \"+ train.sentence2"
   ]
  },
  {
   "cell_type": "code",
   "execution_count": 39,
   "metadata": {},
   "outputs": [
    {
     "name": "stderr",
     "output_type": "stream",
     "text": [
      "[nltk_data] Downloading package stopwords to\n",
      "[nltk_data]     C:\\Users\\kazak_hpyyfpn\\AppData\\Roaming\\nltk_data...\n",
      "[nltk_data]   Unzipping corpora\\stopwords.zip.\n"
     ]
    }
   ],
   "source": [
    "nltk.download('stopwords')\n",
    "stop = set(stopwords.words('english'))"
   ]
  },
  {
   "cell_type": "markdown",
   "metadata": {},
   "source": [
    "Обучаем TF-IDF"
   ]
  },
  {
   "cell_type": "code",
   "execution_count": 40,
   "metadata": {},
   "outputs": [
    {
     "data": {
      "text/plain": [
       "TfidfVectorizer(stop_words={'a', 'about', 'above', 'after', 'again', 'against',\n",
       "                            'ain', 'all', 'am', 'an', 'and', 'any', 'are',\n",
       "                            'aren', \"aren't\", 'as', 'at', 'be', 'because',\n",
       "                            'been', 'before', 'being', 'below', 'between',\n",
       "                            'both', 'but', 'by', 'can', 'couldn', \"couldn't\", ...})"
      ]
     },
     "execution_count": 40,
     "metadata": {},
     "output_type": "execute_result"
    }
   ],
   "source": [
    "tfidf = TfidfVectorizer(stop_words=stop)\n",
    "tfidf.fit(corpus)"
   ]
  },
  {
   "cell_type": "code",
   "execution_count": 41,
   "metadata": {},
   "outputs": [],
   "source": [
    "def tfidf_distance(data):\n",
    "    # преобразует предложения и считает расстояния(евклидово, матхэт., косинусное) между преобразованными предложениями\n",
    "    data_sentence1 = tfidf.transform(data.sentence1)\n",
    "    data_sentence2 = tfidf.transform(data.sentence2)\n",
    "    difference = data_sentence1 - data_sentence2\n",
    "    \n",
    "    euclidean = paired_distances(data_sentence1, data_sentence2, metric='euclidean')\n",
    "    manhattan= paired_distances(data_sentence1, data_sentence2, metric='manhattan')\n",
    "    cosine = paired_distances(data_sentence1, data_sentence2, metric='cosine')\n",
    "\n",
    "    distances =  hstack((np.array([euclidean, manhattan, cosine]).T, difference))\n",
    "    return distances"
   ]
  },
  {
   "cell_type": "markdown",
   "metadata": {},
   "source": [
    "Считаем расстояния, обучаем модель только TF-IDF"
   ]
  },
  {
   "cell_type": "code",
   "execution_count": 42,
   "metadata": {},
   "outputs": [],
   "source": [
    "tfidf_train =  tfidf_distance(train)\n",
    "tfidf_val = tfidf_distance(val_matched)\n",
    "tfidf_test = tfidf_distance(test_matched)"
   ]
  },
  {
   "cell_type": "code",
   "execution_count": 43,
   "metadata": {},
   "outputs": [
    {
     "name": "stdout",
     "output_type": "stream",
     "text": [
      "Cross val scores: [0.47923332 0.47752134 0.4798659 ]\n",
      "Mean cross val score: 0.4789\n",
      "----------------------------------------\n",
      "Train score\n",
      "0.5419   Custom f-score\n",
      "0.5196   Contradiction's recall\n",
      "0.5791   Accuracy\n",
      "               precision    recall    fscore\n",
      "contradiction   0.594646  0.519560  0.526205\n",
      "neutral         0.579014  0.584309  0.583775\n",
      "entailment      0.566952  0.633359  0.626026\n",
      "Weighted*       0.590313  0.537415  0.541944\n",
      "----------------------------------------\n",
      "Val score\n",
      "0.4761   Custom f-score\n",
      "0.4553   Contradiction's recall\n",
      "0.5139   Accuracy\n",
      "               precision    recall    fscore\n",
      "contradiction   0.515141  0.455338  0.460686\n",
      "neutral         0.495043  0.511687  0.509973\n",
      "entailment      0.529223  0.569991  0.565634\n",
      "Weighted*       0.514539  0.472438  0.476109\n"
     ]
    }
   ],
   "source": [
    "log_reg_cv_and_validation(tfidf_train, tfidf_val, y_train = y_train, max_itr = 500)"
   ]
  },
  {
   "cell_type": "markdown",
   "metadata": {},
   "source": [
    "TF-IDF + word2vec"
   ]
  },
  {
   "cell_type": "code",
   "execution_count": 44,
   "metadata": {},
   "outputs": [],
   "source": [
    "X_train = hstack((X_train, tfidf_train))\n",
    "X_val = hstack((X_val, tfidf_val))\n",
    "X_test = hstack((X_test, tfidf_test))"
   ]
  },
  {
   "cell_type": "code",
   "execution_count": 45,
   "metadata": {},
   "outputs": [
    {
     "name": "stderr",
     "output_type": "stream",
     "text": [
      "D:\\Anaconda\\lib\\site-packages\\sklearn\\linear_model\\_sag.py:329: ConvergenceWarning: The max_iter was reached which means the coef_ did not converge\n",
      "  warnings.warn(\"The max_iter was reached which means \"\n",
      "D:\\Anaconda\\lib\\site-packages\\sklearn\\linear_model\\_sag.py:329: ConvergenceWarning: The max_iter was reached which means the coef_ did not converge\n",
      "  warnings.warn(\"The max_iter was reached which means \"\n",
      "D:\\Anaconda\\lib\\site-packages\\sklearn\\linear_model\\_sag.py:329: ConvergenceWarning: The max_iter was reached which means the coef_ did not converge\n",
      "  warnings.warn(\"The max_iter was reached which means \"\n"
     ]
    },
    {
     "name": "stdout",
     "output_type": "stream",
     "text": [
      "Cross val scores: [0.49721543 0.49644808 0.49877131]\n",
      "Mean cross val score: 0.4975\n",
      "----------------------------------------\n"
     ]
    },
    {
     "name": "stderr",
     "output_type": "stream",
     "text": [
      "D:\\Anaconda\\lib\\site-packages\\sklearn\\linear_model\\_sag.py:329: ConvergenceWarning: The max_iter was reached which means the coef_ did not converge\n",
      "  warnings.warn(\"The max_iter was reached which means \"\n"
     ]
    },
    {
     "name": "stdout",
     "output_type": "stream",
     "text": [
      "Train score\n",
      "0.5291   Custom f-score\n",
      "0.5048   Contradiction's recall\n",
      "0.5703   Accuracy\n",
      "               precision    recall    fscore\n",
      "contradiction   0.582250  0.504847  0.511649\n",
      "neutral         0.569153  0.569305  0.569290\n",
      "entailment      0.562078  0.636651  0.628315\n",
      "Weighted*       0.578923  0.524473  0.529080\n",
      "----------------------------------------\n",
      "Val score\n",
      "0.4789   Custom f-score\n",
      "0.4550   Contradiction's recall\n",
      "0.5239   Accuracy\n",
      "               precision    recall    fscore\n",
      "contradiction   0.517522  0.455026  0.460588\n",
      "neutral         0.500619  0.517771  0.516003\n",
      "entailment      0.548670  0.592986  0.588235\n",
      "Weighted*       0.518947  0.475097  0.478895\n"
     ]
    }
   ],
   "source": [
    "log_reg_cv_and_validation(X_train, X_val, y_train = y_train, max_itr = 500)"
   ]
  },
  {
   "cell_type": "markdown",
   "metadata": {},
   "source": [
    "## Синтаксис"
   ]
  },
  {
   "cell_type": "markdown",
   "metadata": {},
   "source": [
    "Считаем расстояния на основе представлений graph2vec и обучаем модель"
   ]
  },
  {
   "cell_type": "code",
   "execution_count": 46,
   "metadata": {},
   "outputs": [],
   "source": [
    "def read_csv_link(response): # читает вектора graph2vec из csv-файла\n",
    "    spamreader = csv.reader(response)\n",
    "    vectors = []\n",
    "    i = 0\n",
    "    for row in spamreader:\n",
    "        if i == 0:\n",
    "            i += 1\n",
    "            continue\n",
    "        row = [float(el) for el in row[1:]]\n",
    "        vectors.append(row)\n",
    "    return vectors"
   ]
  },
  {
   "cell_type": "code",
   "execution_count": 47,
   "metadata": {},
   "outputs": [],
   "source": [
    "def count_distances_link(file1, file2): # считает расстояния между векторами\n",
    "    vectors_1 = read_csv_link(file1)\n",
    "    vectors_2 = read_csv_link(file2)\n",
    "    vectors_1 = np.array([np.array(vectors_1[i]) for i in range(len(vectors_1))])\n",
    "    vectors_2 = np.array([np.array(vectors_2[i]) for i in range(len(vectors_2))])\n",
    "    dist_1 = vectors_1 - vectors_2\n",
    "    \n",
    "    euclidean = paired_distances(vectors_1, vectors_2, metric='euclidean')\n",
    "    manhattan= paired_distances(vectors_1, vectors_2, metric='manhattan')\n",
    "    cosine = paired_distances(vectors_1, vectors_2, metric='cosine')\n",
    "\n",
    "    distances =  np.array([euclidean, manhattan, cosine]).T\n",
    "    return distances"
   ]
  },
  {
   "cell_type": "markdown",
   "metadata": {},
   "source": [
    "Скачиваем файлы с гитхаба (файлы подготовлены через модуль graph2vec отдельно, так как включение кода в данный файл нерационально)"
   ]
  },
  {
   "cell_type": "code",
   "execution_count": 48,
   "metadata": {},
   "outputs": [],
   "source": [
    "response_val_1_1 = urllib.request.urlopen('https://raw.githubusercontent.com/ulianakazak/Bigutochki/main/val_1_1.csv')\n",
    "response_val_2_1 = urllib.request.urlopen('https://raw.githubusercontent.com/ulianakazak/Bigutochki/main/val_2_1.csv')\n",
    "response_val_1_2 = urllib.request.urlopen('https://raw.githubusercontent.com/ulianakazak/Bigutochki/main/val_1_2.csv')\n",
    "response_val_2_2 = urllib.request.urlopen('https://raw.githubusercontent.com/ulianakazak/Bigutochki/main/val_2_2.csv')\n",
    "response_test_1_1 = urllib.request.urlopen('https://raw.githubusercontent.com/ulianakazak/Bigutochki/main/test_1_1.csv')\n",
    "response_test_2_1 = urllib.request.urlopen('https://raw.githubusercontent.com/ulianakazak/Bigutochki/main/test_2_1.csv')\n",
    "response_test_1_2 = urllib.request.urlopen('https://raw.githubusercontent.com/ulianakazak/Bigutochki/main/test_1_2.csv')\n",
    "response_test_2_2 = urllib.request.urlopen('https://raw.githubusercontent.com/ulianakazak/Bigutochki/main/test_2_2.csv')\n",
    "\n",
    "X_val_1 = count_distances_link(io.TextIOWrapper(response_val_1_1), io.TextIOWrapper(response_val_2_1))\n",
    "X_val_2 = count_distances_link(io.TextIOWrapper(response_val_1_2), io.TextIOWrapper(response_val_2_2))\n",
    "semantic_val = np.vstack((X_val_1, X_val_2))\n",
    "\n",
    "X_test_1 = count_distances_link(io.TextIOWrapper(response_test_1_1), io.TextIOWrapper(response_test_2_1))\n",
    "X_test_2 = count_distances_link(io.TextIOWrapper(response_test_1_2), io.TextIOWrapper(response_test_2_2))\n",
    "semantic_test = np.vstack((X_test_1, X_test_2))"
   ]
  },
  {
   "cell_type": "code",
   "execution_count": 49,
   "metadata": {},
   "outputs": [],
   "source": [
    "response_1 = urllib.request.urlopen('https://raw.githubusercontent.com/ulianakazak/Bigutochki/main/data_syntax/train_1_0.csv')\n",
    "response_2 = urllib.request.urlopen('https://raw.githubusercontent.com/ulianakazak/Bigutochki/main/data_syntax/train_2_0.csv')\n",
    "semantic_train = count_distances_link(io.TextIOWrapper(response_1), io.TextIOWrapper(response_2))\n",
    "for i in range(1, 69):\n",
    "    response_1 = urllib.request.urlopen(f'https://raw.githubusercontent.com/ulianakazak/Bigutochki/main/data_syntax/train_1_{i}.csv')\n",
    "    response_2 = urllib.request.urlopen(f'https://raw.githubusercontent.com/ulianakazak/Bigutochki/main/data_syntax/train_2_{i}.csv')\n",
    "    X = count_distances_link(io.TextIOWrapper(response_1), io.TextIOWrapper(response_2))\n",
    "    semantic_train = np.vstack((semantic_train, X))"
   ]
  },
  {
   "cell_type": "code",
   "execution_count": 50,
   "metadata": {},
   "outputs": [],
   "source": [
    "def delete_unsure_labels_vec(X, data):\n",
    "    X = X[data.index]\n",
    "    return X"
   ]
  },
  {
   "cell_type": "markdown",
   "metadata": {},
   "source": [
    "Обучаем модель, только для синтаксиса"
   ]
  },
  {
   "cell_type": "code",
   "execution_count": 52,
   "metadata": {},
   "outputs": [],
   "source": [
    "semantic_train = delete_unsure_labels_vec(semantic_train, train)\n",
    "semantic_val = delete_unsure_labels_vec(semantic_val, val_matched)\n",
    "semantic_test = delete_unsure_labels_vec(semantic_test, test_matched)"
   ]
  },
  {
   "cell_type": "code",
   "execution_count": 53,
   "metadata": {},
   "outputs": [
    {
     "name": "stdout",
     "output_type": "stream",
     "text": [
      "Cross val scores: [0.32547094 0.32851701 0.33126737]\n",
      "Mean cross val score: 0.3284\n",
      "----------------------------------------\n",
      "Train score\n",
      "0.2663   Custom f-score\n",
      "0.2301   Contradiction's recall\n",
      "0.3352   Accuracy\n",
      "               precision    recall    fscore\n",
      "contradiction   0.335696  0.230071  0.237545\n",
      "neutral         0.335466  0.413759  0.404322\n",
      "entailment      0.334464  0.361645  0.358730\n",
      "Weighted*       0.335550  0.261597  0.266342\n",
      "----------------------------------------\n",
      "Val score\n",
      "0.1846   Custom f-score\n",
      "0.1276   Contradiction's recall\n",
      "0.3235   Accuracy\n",
      "               precision    recall    fscore\n",
      "contradiction   0.356212  0.127607  0.136358\n",
      "neutral         0.318707  0.874480  0.744629\n",
      "entailment      0.357895  0.009773  0.010826\n",
      "Weighted*       0.352630  0.190511  0.184632\n"
     ]
    }
   ],
   "source": [
    "log_reg_cv_and_validation(semantic_train, semantic_val, y_train = y_train, max_itr = 500)"
   ]
  },
  {
   "cell_type": "markdown",
   "metadata": {},
   "source": [
    "Синтаксис + TF-IDF + word2vec"
   ]
  },
  {
   "cell_type": "code",
   "execution_count": 54,
   "metadata": {},
   "outputs": [],
   "source": [
    "X_train_all = hstack((X_train, semantic_train))\n",
    "X_val_all = hstack((X_val, semantic_val))\n",
    "X_test_all = hstack((X_test, semantic_test))"
   ]
  },
  {
   "cell_type": "code",
   "execution_count": 55,
   "metadata": {},
   "outputs": [
    {
     "name": "stderr",
     "output_type": "stream",
     "text": [
      "D:\\Anaconda\\lib\\site-packages\\sklearn\\linear_model\\_sag.py:329: ConvergenceWarning: The max_iter was reached which means the coef_ did not converge\n",
      "  warnings.warn(\"The max_iter was reached which means \"\n",
      "D:\\Anaconda\\lib\\site-packages\\sklearn\\linear_model\\_sag.py:329: ConvergenceWarning: The max_iter was reached which means the coef_ did not converge\n",
      "  warnings.warn(\"The max_iter was reached which means \"\n",
      "D:\\Anaconda\\lib\\site-packages\\sklearn\\linear_model\\_sag.py:329: ConvergenceWarning: The max_iter was reached which means the coef_ did not converge\n",
      "  warnings.warn(\"The max_iter was reached which means \"\n"
     ]
    },
    {
     "name": "stdout",
     "output_type": "stream",
     "text": [
      "Cross val scores: [0.50524359 0.50383059 0.50798922]\n",
      "Mean cross val score: 0.5057\n",
      "----------------------------------------\n"
     ]
    },
    {
     "name": "stderr",
     "output_type": "stream",
     "text": [
      "D:\\Anaconda\\lib\\site-packages\\sklearn\\linear_model\\_sag.py:329: ConvergenceWarning: The max_iter was reached which means the coef_ did not converge\n",
      "  warnings.warn(\"The max_iter was reached which means \"\n"
     ]
    },
    {
     "name": "stdout",
     "output_type": "stream",
     "text": [
      "Train score\n",
      "0.4894   Custom f-score\n",
      "0.4620   Contradiction's recall\n",
      "0.5360   Accuracy\n",
      "               precision    recall    fscore\n",
      "contradiction   0.552311  0.461999  0.469679\n",
      "neutral         0.524926  0.532124  0.531395\n",
      "entailment      0.533775  0.613740  0.604682\n",
      "Weighted*       0.547719  0.484185  0.489351\n",
      "----------------------------------------\n",
      "Val score\n",
      "0.4822   Custom f-score\n",
      "0.4650   Contradiction's recall\n",
      "0.5125   Accuracy\n",
      "               precision    recall    fscore\n",
      "contradiction   0.511819  0.464986  0.469280\n",
      "neutral         0.466175  0.567083  0.555068\n",
      "entailment      0.569906  0.507330  0.512962\n",
      "Weighted*       0.513063  0.479430  0.482227\n"
     ]
    }
   ],
   "source": [
    "log_reg_cv_and_validation(X_train_all, X_val_all, y_train = y_train, max_itr = 500)"
   ]
  },
  {
   "cell_type": "markdown",
   "metadata": {},
   "source": [
    "Судя по кросс-валидации, данная модель улавливает закономерности хуже, чем предшествующие. Несмотря на то, на валидационной выборке recall у contradiction получился очень большой, итоговая метрика не выросла, т.к она также учитывает precision и recall на других классах."
   ]
  },
  {
   "cell_type": "markdown",
   "metadata": {},
   "source": [
    "## Fine-Tuning"
   ]
  },
  {
   "cell_type": "markdown",
   "metadata": {},
   "source": [
    "Подбор итоговых параметров модели (запускается только один раз, снять комментарий для проверки)"
   ]
  },
  {
   "cell_type": "code",
   "execution_count": null,
   "metadata": {},
   "outputs": [
    {
     "name": "stderr",
     "output_type": "stream",
     "text": [
      "D:\\Anaconda\\lib\\site-packages\\sklearn\\linear_model\\_sag.py:329: ConvergenceWarning: The max_iter was reached which means the coef_ did not converge\n",
      "  warnings.warn(\"The max_iter was reached which means \"\n"
     ]
    }
   ],
   "source": [
    "param_grid = {'penalty' : ['l2', 'none'], \n",
    "               'C': [0.1, 1., 3., 10],\n",
    "              'solver': ['sag', 'saga', 'newton-cg'],} \n",
    "model = LogisticRegression(random_state=1, max_iter=500)\n",
    "grid_classifier = GridSearchCV(model, param_grid, cv=3, scoring=f_scorer, return_train_score=True)\n",
    "grid_classifier.fit(X_train, y_train)\n",
    "results = pd.DataFrame(grid_classifier.cv_results_)\n",
    "best = np.argmax(results.mean_test_score.values)"
   ]
  },
  {
   "cell_type": "code",
   "execution_count": 57,
   "metadata": {},
   "outputs": [],
   "source": [
    "results_file = results.to_csv('results_file.csv')"
   ]
  },
  {
   "cell_type": "markdown",
   "metadata": {},
   "source": [
    "### Results"
   ]
  },
  {
   "cell_type": "markdown",
   "metadata": {},
   "source": [
    "Результаты fine-tuning, файлы получены из отдельных запусков для каждого солвера"
   ]
  },
  {
   "cell_type": "markdown",
   "metadata": {},
   "source": [
    "#### Saga"
   ]
  },
  {
   "cell_type": "code",
   "execution_count": 60,
   "metadata": {},
   "outputs": [
    {
     "data": {
      "text/html": [
       "<div>\n",
       "<style scoped>\n",
       "    .dataframe tbody tr th:only-of-type {\n",
       "        vertical-align: middle;\n",
       "    }\n",
       "\n",
       "    .dataframe tbody tr th {\n",
       "        vertical-align: top;\n",
       "    }\n",
       "\n",
       "    .dataframe thead th {\n",
       "        text-align: right;\n",
       "    }\n",
       "</style>\n",
       "<table border=\"1\" class=\"dataframe\">\n",
       "  <thead>\n",
       "    <tr style=\"text-align: right;\">\n",
       "      <th></th>\n",
       "      <th>Unnamed: 0</th>\n",
       "      <th>mean_fit_time</th>\n",
       "      <th>std_fit_time</th>\n",
       "      <th>mean_score_time</th>\n",
       "      <th>std_score_time</th>\n",
       "      <th>param_C</th>\n",
       "      <th>param_penalty</th>\n",
       "      <th>params</th>\n",
       "      <th>split0_test_score</th>\n",
       "      <th>split1_test_score</th>\n",
       "      <th>split2_test_score</th>\n",
       "      <th>mean_test_score</th>\n",
       "      <th>std_test_score</th>\n",
       "      <th>rank_test_score</th>\n",
       "      <th>split0_train_score</th>\n",
       "      <th>split1_train_score</th>\n",
       "      <th>split2_train_score</th>\n",
       "      <th>mean_train_score</th>\n",
       "      <th>std_train_score</th>\n",
       "    </tr>\n",
       "  </thead>\n",
       "  <tbody>\n",
       "    <tr>\n",
       "      <th>0</th>\n",
       "      <td>1</td>\n",
       "      <td>223.355759</td>\n",
       "      <td>0.533514</td>\n",
       "      <td>2.750779</td>\n",
       "      <td>0.016982</td>\n",
       "      <td>NaN</td>\n",
       "      <td>none</td>\n",
       "      <td>{'C': none, 'penalty': 'none'}</td>\n",
       "      <td>0.654611</td>\n",
       "      <td>0.656727</td>\n",
       "      <td>0.653928</td>\n",
       "      <td>0.655089</td>\n",
       "      <td>0.001192</td>\n",
       "      <td>1.0</td>\n",
       "      <td>0.683840</td>\n",
       "      <td>0.687177</td>\n",
       "      <td>0.684087</td>\n",
       "      <td>0.685034</td>\n",
       "      <td>0.001518</td>\n",
       "    </tr>\n",
       "    <tr>\n",
       "      <th>1</th>\n",
       "      <td>6</td>\n",
       "      <td>223.116782</td>\n",
       "      <td>1.517500</td>\n",
       "      <td>2.761299</td>\n",
       "      <td>0.009427</td>\n",
       "      <td>10.0</td>\n",
       "      <td>l2</td>\n",
       "      <td>{'C': 10, 'penalty': 'l2'}</td>\n",
       "      <td>0.654418</td>\n",
       "      <td>0.656508</td>\n",
       "      <td>0.653865</td>\n",
       "      <td>0.654930</td>\n",
       "      <td>0.001138</td>\n",
       "      <td>2.0</td>\n",
       "      <td>0.683403</td>\n",
       "      <td>0.686546</td>\n",
       "      <td>0.683599</td>\n",
       "      <td>0.684516</td>\n",
       "      <td>0.001438</td>\n",
       "    </tr>\n",
       "    <tr>\n",
       "      <th>2</th>\n",
       "      <td>4</td>\n",
       "      <td>221.807740</td>\n",
       "      <td>0.903589</td>\n",
       "      <td>2.756145</td>\n",
       "      <td>0.022261</td>\n",
       "      <td>3.0</td>\n",
       "      <td>l2</td>\n",
       "      <td>{'C': 3.0, 'penalty': 'l2'}</td>\n",
       "      <td>0.654443</td>\n",
       "      <td>0.656299</td>\n",
       "      <td>0.653527</td>\n",
       "      <td>0.654756</td>\n",
       "      <td>0.001153</td>\n",
       "      <td>3.0</td>\n",
       "      <td>0.682256</td>\n",
       "      <td>0.685063</td>\n",
       "      <td>0.682413</td>\n",
       "      <td>0.683244</td>\n",
       "      <td>0.001288</td>\n",
       "    </tr>\n",
       "    <tr>\n",
       "      <th>3</th>\n",
       "      <td>2</td>\n",
       "      <td>213.774402</td>\n",
       "      <td>12.227167</td>\n",
       "      <td>2.681751</td>\n",
       "      <td>0.028854</td>\n",
       "      <td>1.0</td>\n",
       "      <td>l2</td>\n",
       "      <td>{'C': 1.0, 'penalty': 'l2'}</td>\n",
       "      <td>0.654393</td>\n",
       "      <td>0.655246</td>\n",
       "      <td>0.652554</td>\n",
       "      <td>0.654064</td>\n",
       "      <td>0.001123</td>\n",
       "      <td>4.0</td>\n",
       "      <td>0.678754</td>\n",
       "      <td>0.680087</td>\n",
       "      <td>0.679185</td>\n",
       "      <td>0.679342</td>\n",
       "      <td>0.000556</td>\n",
       "    </tr>\n",
       "    <tr>\n",
       "      <th>4</th>\n",
       "      <td>0</td>\n",
       "      <td>103.525436</td>\n",
       "      <td>12.745608</td>\n",
       "      <td>2.737830</td>\n",
       "      <td>0.025990</td>\n",
       "      <td>0.1</td>\n",
       "      <td>l2</td>\n",
       "      <td>{'C': 0.1, 'penalty': 'l2'}</td>\n",
       "      <td>0.644079</td>\n",
       "      <td>0.644651</td>\n",
       "      <td>0.641654</td>\n",
       "      <td>0.643461</td>\n",
       "      <td>0.001299</td>\n",
       "      <td>5.0</td>\n",
       "      <td>0.654325</td>\n",
       "      <td>0.653960</td>\n",
       "      <td>0.655176</td>\n",
       "      <td>0.654487</td>\n",
       "      <td>0.000509</td>\n",
       "    </tr>\n",
       "  </tbody>\n",
       "</table>\n",
       "</div>"
      ],
      "text/plain": [
       "   Unnamed: 0  mean_fit_time  std_fit_time  mean_score_time  std_score_time  \\\n",
       "0           1     223.355759      0.533514         2.750779        0.016982   \n",
       "1           6     223.116782      1.517500         2.761299        0.009427   \n",
       "2           4     221.807740      0.903589         2.756145        0.022261   \n",
       "3           2     213.774402     12.227167         2.681751        0.028854   \n",
       "4           0     103.525436     12.745608         2.737830        0.025990   \n",
       "\n",
       "   param_C param_penalty                          params  split0_test_score  \\\n",
       "0      NaN          none  {'C': none, 'penalty': 'none'}           0.654611   \n",
       "1     10.0            l2      {'C': 10, 'penalty': 'l2'}           0.654418   \n",
       "2      3.0            l2     {'C': 3.0, 'penalty': 'l2'}           0.654443   \n",
       "3      1.0            l2     {'C': 1.0, 'penalty': 'l2'}           0.654393   \n",
       "4      0.1            l2     {'C': 0.1, 'penalty': 'l2'}           0.644079   \n",
       "\n",
       "   split1_test_score  split2_test_score  mean_test_score  std_test_score  \\\n",
       "0           0.656727           0.653928         0.655089        0.001192   \n",
       "1           0.656508           0.653865         0.654930        0.001138   \n",
       "2           0.656299           0.653527         0.654756        0.001153   \n",
       "3           0.655246           0.652554         0.654064        0.001123   \n",
       "4           0.644651           0.641654         0.643461        0.001299   \n",
       "\n",
       "   rank_test_score  split0_train_score  split1_train_score  \\\n",
       "0              1.0            0.683840            0.687177   \n",
       "1              2.0            0.683403            0.686546   \n",
       "2              3.0            0.682256            0.685063   \n",
       "3              4.0            0.678754            0.680087   \n",
       "4              5.0            0.654325            0.653960   \n",
       "\n",
       "   split2_train_score  mean_train_score  std_train_score  \n",
       "0            0.684087          0.685034         0.001518  \n",
       "1            0.683599          0.684516         0.001438  \n",
       "2            0.682413          0.683244         0.001288  \n",
       "3            0.679185          0.679342         0.000556  \n",
       "4            0.655176          0.654487         0.000509  "
      ]
     },
     "execution_count": 60,
     "metadata": {},
     "output_type": "execute_result"
    }
   ],
   "source": [
    "saga = pd.read_csv('clean_saga_results_file.csv')\n",
    "saga"
   ]
  },
  {
   "cell_type": "code",
   "execution_count": 61,
   "metadata": {},
   "outputs": [],
   "source": [
    "y1_train = list(saga['mean_train_score'])\n",
    "x1_train = [1 / i for i in list(saga['param_C'])]\n",
    "x1_train[0] = 0\n",
    "y1_test = list(saga['mean_test_score'])\n",
    "x1_test = [1 / i for i in list(saga['param_C'])]\n",
    "x1_test[0] = 0"
   ]
  },
  {
   "cell_type": "code",
   "execution_count": 62,
   "metadata": {},
   "outputs": [
    {
     "data": {
      "image/png": "[encoded data removed]",
      "text/plain": [
       "<Figure size 432x288 with 1 Axes>"
      ]
     },
     "metadata": {
      "needs_background": "light"
     },
     "output_type": "display_data"
    }
   ],
   "source": [
    "plt.scatter(x1_test, y1_test, label='test', color='red')\n",
    "plt.scatter(x1_train, y1_train, label='train', color='blue')\n",
    "plt.title('Train and test scores with different λ-parameters')\n",
    "plt.ylabel('Score')\n",
    "plt.xlabel('λ parameter')\n",
    "plt.legend(loc='best')\n",
    "plt.show()"
   ]
  },
  {
   "cell_type": "markdown",
   "metadata": {},
   "source": [
    "#### Newton"
   ]
  },
  {
   "cell_type": "code",
   "execution_count": 63,
   "metadata": {},
   "outputs": [
    {
     "data": {
      "text/html": [
       "<div>\n",
       "<style scoped>\n",
       "    .dataframe tbody tr th:only-of-type {\n",
       "        vertical-align: middle;\n",
       "    }\n",
       "\n",
       "    .dataframe tbody tr th {\n",
       "        vertical-align: top;\n",
       "    }\n",
       "\n",
       "    .dataframe thead th {\n",
       "        text-align: right;\n",
       "    }\n",
       "</style>\n",
       "<table border=\"1\" class=\"dataframe\">\n",
       "  <thead>\n",
       "    <tr style=\"text-align: right;\">\n",
       "      <th></th>\n",
       "      <th>Unnamed: 0</th>\n",
       "      <th>mean_fit_time</th>\n",
       "      <th>std_fit_time</th>\n",
       "      <th>mean_score_time</th>\n",
       "      <th>std_score_time</th>\n",
       "      <th>param_C</th>\n",
       "      <th>params</th>\n",
       "      <th>split0_test_score</th>\n",
       "      <th>split1_test_score</th>\n",
       "      <th>split2_test_score</th>\n",
       "      <th>mean_test_score</th>\n",
       "      <th>std_test_score</th>\n",
       "      <th>rank_test_score</th>\n",
       "      <th>split0_train_score</th>\n",
       "      <th>split1_train_score</th>\n",
       "      <th>split2_train_score</th>\n",
       "      <th>mean_train_score</th>\n",
       "      <th>std_train_score</th>\n",
       "    </tr>\n",
       "  </thead>\n",
       "  <tbody>\n",
       "    <tr>\n",
       "      <th>0</th>\n",
       "      <td>0</td>\n",
       "      <td>78.934767</td>\n",
       "      <td>2.123762</td>\n",
       "      <td>3.140923</td>\n",
       "      <td>0.145401</td>\n",
       "      <td>0.1</td>\n",
       "      <td>{'C': 0.1}</td>\n",
       "      <td>0.643379</td>\n",
       "      <td>0.644593</td>\n",
       "      <td>0.640910</td>\n",
       "      <td>0.642961</td>\n",
       "      <td>0.001533</td>\n",
       "      <td>4</td>\n",
       "      <td>0.653804</td>\n",
       "      <td>0.654202</td>\n",
       "      <td>0.654748</td>\n",
       "      <td>0.654252</td>\n",
       "      <td>0.000387</td>\n",
       "    </tr>\n",
       "    <tr>\n",
       "      <th>1</th>\n",
       "      <td>1</td>\n",
       "      <td>147.389531</td>\n",
       "      <td>2.203267</td>\n",
       "      <td>2.929313</td>\n",
       "      <td>0.063333</td>\n",
       "      <td>1.0</td>\n",
       "      <td>{'C': 1.0}</td>\n",
       "      <td>0.655791</td>\n",
       "      <td>0.656259</td>\n",
       "      <td>0.654687</td>\n",
       "      <td>0.655579</td>\n",
       "      <td>0.000659</td>\n",
       "      <td>3</td>\n",
       "      <td>0.687068</td>\n",
       "      <td>0.686094</td>\n",
       "      <td>0.687579</td>\n",
       "      <td>0.686914</td>\n",
       "      <td>0.000616</td>\n",
       "    </tr>\n",
       "    <tr>\n",
       "      <th>2</th>\n",
       "      <td>2</td>\n",
       "      <td>209.724838</td>\n",
       "      <td>11.218258</td>\n",
       "      <td>3.056921</td>\n",
       "      <td>0.211266</td>\n",
       "      <td>3.0</td>\n",
       "      <td>{'C': 3.0}</td>\n",
       "      <td>0.657131</td>\n",
       "      <td>0.658667</td>\n",
       "      <td>0.655925</td>\n",
       "      <td>0.657241</td>\n",
       "      <td>0.001122</td>\n",
       "      <td>1</td>\n",
       "      <td>0.700472</td>\n",
       "      <td>0.699782</td>\n",
       "      <td>0.700947</td>\n",
       "      <td>0.700401</td>\n",
       "      <td>0.000478</td>\n",
       "    </tr>\n",
       "    <tr>\n",
       "      <th>3</th>\n",
       "      <td>3</td>\n",
       "      <td>326.779914</td>\n",
       "      <td>16.252966</td>\n",
       "      <td>3.111567</td>\n",
       "      <td>0.135586</td>\n",
       "      <td>10.0</td>\n",
       "      <td>{'C': 10}</td>\n",
       "      <td>0.656445</td>\n",
       "      <td>0.657580</td>\n",
       "      <td>0.655682</td>\n",
       "      <td>0.656569</td>\n",
       "      <td>0.000780</td>\n",
       "      <td>2</td>\n",
       "      <td>0.708133</td>\n",
       "      <td>0.707913</td>\n",
       "      <td>0.708402</td>\n",
       "      <td>0.708149</td>\n",
       "      <td>0.000200</td>\n",
       "    </tr>\n",
       "  </tbody>\n",
       "</table>\n",
       "</div>"
      ],
      "text/plain": [
       "   Unnamed: 0  mean_fit_time  std_fit_time  mean_score_time  std_score_time  \\\n",
       "0           0      78.934767      2.123762         3.140923        0.145401   \n",
       "1           1     147.389531      2.203267         2.929313        0.063333   \n",
       "2           2     209.724838     11.218258         3.056921        0.211266   \n",
       "3           3     326.779914     16.252966         3.111567        0.135586   \n",
       "\n",
       "   param_C      params  split0_test_score  split1_test_score  \\\n",
       "0      0.1  {'C': 0.1}           0.643379           0.644593   \n",
       "1      1.0  {'C': 1.0}           0.655791           0.656259   \n",
       "2      3.0  {'C': 3.0}           0.657131           0.658667   \n",
       "3     10.0   {'C': 10}           0.656445           0.657580   \n",
       "\n",
       "   split2_test_score  mean_test_score  std_test_score  rank_test_score  \\\n",
       "0           0.640910         0.642961        0.001533                4   \n",
       "1           0.654687         0.655579        0.000659                3   \n",
       "2           0.655925         0.657241        0.001122                1   \n",
       "3           0.655682         0.656569        0.000780                2   \n",
       "\n",
       "   split0_train_score  split1_train_score  split2_train_score  \\\n",
       "0            0.653804            0.654202            0.654748   \n",
       "1            0.687068            0.686094            0.687579   \n",
       "2            0.700472            0.699782            0.700947   \n",
       "3            0.708133            0.707913            0.708402   \n",
       "\n",
       "   mean_train_score  std_train_score  \n",
       "0          0.654252         0.000387  \n",
       "1          0.686914         0.000616  \n",
       "2          0.700401         0.000478  \n",
       "3          0.708149         0.000200  "
      ]
     },
     "execution_count": 63,
     "metadata": {},
     "output_type": "execute_result"
    }
   ],
   "source": [
    "newton = pd.read_csv('newton_results_file.csv')\n",
    "newton"
   ]
  },
  {
   "cell_type": "code",
   "execution_count": 64,
   "metadata": {},
   "outputs": [],
   "source": [
    "y1_train = list(newton['mean_train_score'])\n",
    "x1_train = [1 / i for i in list(newton['param_C'])]\n",
    "y1_test = list(newton['mean_test_score'])\n",
    "x1_test = [1 / i for i in list(newton['param_C'])]"
   ]
  },
  {
   "cell_type": "code",
   "execution_count": 65,
   "metadata": {},
   "outputs": [
    {
     "data": {
      "image/png": "[encoded data removed]",
      "text/plain": [
       "<Figure size 432x288 with 1 Axes>"
      ]
     },
     "metadata": {
      "needs_background": "light"
     },
     "output_type": "display_data"
    }
   ],
   "source": [
    "plt.scatter(x1_test, y1_test, label='test', color='red')\n",
    "plt.scatter(x1_train, y1_train, label='train', color='blue')\n",
    "plt.title('Train and test scores with different λ-parameters')\n",
    "plt.ylabel('Score')\n",
    "plt.xlabel('λ parameter')\n",
    "plt.legend(loc='best')\n",
    "plt.show()"
   ]
  },
  {
   "cell_type": "markdown",
   "metadata": {},
   "source": [
    "#### Sag"
   ]
  },
  {
   "cell_type": "code",
   "execution_count": 66,
   "metadata": {},
   "outputs": [
    {
     "data": {
      "text/html": [
       "<div>\n",
       "<style scoped>\n",
       "    .dataframe tbody tr th:only-of-type {\n",
       "        vertical-align: middle;\n",
       "    }\n",
       "\n",
       "    .dataframe tbody tr th {\n",
       "        vertical-align: top;\n",
       "    }\n",
       "\n",
       "    .dataframe thead th {\n",
       "        text-align: right;\n",
       "    }\n",
       "</style>\n",
       "<table border=\"1\" class=\"dataframe\">\n",
       "  <thead>\n",
       "    <tr style=\"text-align: right;\">\n",
       "      <th></th>\n",
       "      <th>Unnamed: 0</th>\n",
       "      <th>mean_fit_time</th>\n",
       "      <th>std_fit_time</th>\n",
       "      <th>mean_score_time</th>\n",
       "      <th>std_score_time</th>\n",
       "      <th>param_C</th>\n",
       "      <th>param_penalty</th>\n",
       "      <th>params</th>\n",
       "      <th>split0_test_score</th>\n",
       "      <th>split1_test_score</th>\n",
       "      <th>split2_test_score</th>\n",
       "      <th>mean_test_score</th>\n",
       "      <th>std_test_score</th>\n",
       "      <th>rank_test_score</th>\n",
       "      <th>split0_train_score</th>\n",
       "      <th>split1_train_score</th>\n",
       "      <th>split2_train_score</th>\n",
       "      <th>mean_train_score</th>\n",
       "      <th>std_train_score</th>\n",
       "    </tr>\n",
       "  </thead>\n",
       "  <tbody>\n",
       "    <tr>\n",
       "      <th>0</th>\n",
       "      <td>6</td>\n",
       "      <td>241.486721</td>\n",
       "      <td>3.068361</td>\n",
       "      <td>2.934395</td>\n",
       "      <td>0.030746</td>\n",
       "      <td>10.0</td>\n",
       "      <td>l2</td>\n",
       "      <td>{'C': 10, 'penalty': 'l2'}</td>\n",
       "      <td>0.656019</td>\n",
       "      <td>0.657736</td>\n",
       "      <td>0.655540</td>\n",
       "      <td>0.656432</td>\n",
       "      <td>0.000943</td>\n",
       "      <td>1.0</td>\n",
       "      <td>0.692262</td>\n",
       "      <td>0.695382</td>\n",
       "      <td>0.692584</td>\n",
       "      <td>0.693409</td>\n",
       "      <td>0.001401</td>\n",
       "    </tr>\n",
       "    <tr>\n",
       "      <th>1</th>\n",
       "      <td>1</td>\n",
       "      <td>248.163871</td>\n",
       "      <td>2.252929</td>\n",
       "      <td>2.961017</td>\n",
       "      <td>0.075998</td>\n",
       "      <td>NaN</td>\n",
       "      <td>none</td>\n",
       "      <td>{'C': none, 'penalty': 'none'}</td>\n",
       "      <td>0.655920</td>\n",
       "      <td>0.657409</td>\n",
       "      <td>0.655377</td>\n",
       "      <td>0.656235</td>\n",
       "      <td>0.000859</td>\n",
       "      <td>2.0</td>\n",
       "      <td>0.693105</td>\n",
       "      <td>0.696756</td>\n",
       "      <td>0.693533</td>\n",
       "      <td>0.694465</td>\n",
       "      <td>0.001630</td>\n",
       "    </tr>\n",
       "    <tr>\n",
       "      <th>2</th>\n",
       "      <td>4</td>\n",
       "      <td>232.618460</td>\n",
       "      <td>13.245547</td>\n",
       "      <td>2.952045</td>\n",
       "      <td>0.064873</td>\n",
       "      <td>3.0</td>\n",
       "      <td>l2</td>\n",
       "      <td>{'C': 3.0, 'penalty': 'l2'}</td>\n",
       "      <td>0.655639</td>\n",
       "      <td>0.657908</td>\n",
       "      <td>0.655052</td>\n",
       "      <td>0.656200</td>\n",
       "      <td>0.001232</td>\n",
       "      <td>3.0</td>\n",
       "      <td>0.688788</td>\n",
       "      <td>0.691714</td>\n",
       "      <td>0.690509</td>\n",
       "      <td>0.690337</td>\n",
       "      <td>0.001201</td>\n",
       "    </tr>\n",
       "    <tr>\n",
       "      <th>3</th>\n",
       "      <td>2</td>\n",
       "      <td>158.587228</td>\n",
       "      <td>17.776174</td>\n",
       "      <td>3.011639</td>\n",
       "      <td>0.180076</td>\n",
       "      <td>1.0</td>\n",
       "      <td>l2</td>\n",
       "      <td>{'C': 1.0, 'penalty': 'l2'}</td>\n",
       "      <td>0.654653</td>\n",
       "      <td>0.655558</td>\n",
       "      <td>0.653545</td>\n",
       "      <td>0.654585</td>\n",
       "      <td>0.000823</td>\n",
       "      <td>4.0</td>\n",
       "      <td>0.681782</td>\n",
       "      <td>0.681569</td>\n",
       "      <td>0.681934</td>\n",
       "      <td>0.681762</td>\n",
       "      <td>0.000149</td>\n",
       "    </tr>\n",
       "    <tr>\n",
       "      <th>4</th>\n",
       "      <td>0</td>\n",
       "      <td>73.601931</td>\n",
       "      <td>5.882737</td>\n",
       "      <td>2.984545</td>\n",
       "      <td>0.086516</td>\n",
       "      <td>0.1</td>\n",
       "      <td>l2</td>\n",
       "      <td>{'C': 0.1, 'penalty': 'l2'}</td>\n",
       "      <td>0.644095</td>\n",
       "      <td>0.644605</td>\n",
       "      <td>0.641808</td>\n",
       "      <td>0.643503</td>\n",
       "      <td>0.001216</td>\n",
       "      <td>5.0</td>\n",
       "      <td>0.654489</td>\n",
       "      <td>0.654166</td>\n",
       "      <td>0.655440</td>\n",
       "      <td>0.654698</td>\n",
       "      <td>0.000541</td>\n",
       "    </tr>\n",
       "  </tbody>\n",
       "</table>\n",
       "</div>"
      ],
      "text/plain": [
       "   Unnamed: 0  mean_fit_time  std_fit_time  mean_score_time  std_score_time  \\\n",
       "0           6     241.486721      3.068361         2.934395        0.030746   \n",
       "1           1     248.163871      2.252929         2.961017        0.075998   \n",
       "2           4     232.618460     13.245547         2.952045        0.064873   \n",
       "3           2     158.587228     17.776174         3.011639        0.180076   \n",
       "4           0      73.601931      5.882737         2.984545        0.086516   \n",
       "\n",
       "   param_C param_penalty                          params  split0_test_score  \\\n",
       "0     10.0            l2      {'C': 10, 'penalty': 'l2'}           0.656019   \n",
       "1      NaN          none  {'C': none, 'penalty': 'none'}           0.655920   \n",
       "2      3.0            l2     {'C': 3.0, 'penalty': 'l2'}           0.655639   \n",
       "3      1.0            l2     {'C': 1.0, 'penalty': 'l2'}           0.654653   \n",
       "4      0.1            l2     {'C': 0.1, 'penalty': 'l2'}           0.644095   \n",
       "\n",
       "   split1_test_score  split2_test_score  mean_test_score  std_test_score  \\\n",
       "0           0.657736           0.655540         0.656432        0.000943   \n",
       "1           0.657409           0.655377         0.656235        0.000859   \n",
       "2           0.657908           0.655052         0.656200        0.001232   \n",
       "3           0.655558           0.653545         0.654585        0.000823   \n",
       "4           0.644605           0.641808         0.643503        0.001216   \n",
       "\n",
       "   rank_test_score  split0_train_score  split1_train_score  \\\n",
       "0              1.0            0.692262            0.695382   \n",
       "1              2.0            0.693105            0.696756   \n",
       "2              3.0            0.688788            0.691714   \n",
       "3              4.0            0.681782            0.681569   \n",
       "4              5.0            0.654489            0.654166   \n",
       "\n",
       "   split2_train_score  mean_train_score  std_train_score  \n",
       "0            0.692584          0.693409         0.001401  \n",
       "1            0.693533          0.694465         0.001630  \n",
       "2            0.690509          0.690337         0.001201  \n",
       "3            0.681934          0.681762         0.000149  \n",
       "4            0.655440          0.654698         0.000541  "
      ]
     },
     "execution_count": 66,
     "metadata": {},
     "output_type": "execute_result"
    }
   ],
   "source": [
    "sag = pd.read_csv('clean_sag_results_file.csv')\n",
    "sag"
   ]
  },
  {
   "cell_type": "code",
   "execution_count": 67,
   "metadata": {},
   "outputs": [],
   "source": [
    "y1_train = list(sag['mean_train_score'])\n",
    "x1_train = [1 / i for i in list(sag['param_C'])]\n",
    "x1_train[1] = 0\n",
    "y1_test = list(sag['mean_test_score'])\n",
    "x1_test = [1 / i for i in list(sag['param_C'])]\n",
    "x1_test[1] = 0"
   ]
  },
  {
   "cell_type": "code",
   "execution_count": 68,
   "metadata": {},
   "outputs": [
    {
     "data": {
      "image/png": "[encoded data removed]",
      "text/plain": [
       "<Figure size 432x288 with 1 Axes>"
      ]
     },
     "metadata": {
      "needs_background": "light"
     },
     "output_type": "display_data"
    }
   ],
   "source": [
    "plt.scatter(x1_test, y1_test, label='test', color='red')\n",
    "plt.scatter(x1_train, y1_train, label='train', color='blue')\n",
    "plt.title('Train and test scores with different λ-parameters')\n",
    "plt.ylabel('Score')\n",
    "plt.xlabel('λ parameter')\n",
    "plt.legend(loc='best')\n",
    "plt.show()"
   ]
  },
  {
   "cell_type": "markdown",
   "metadata": {},
   "source": [
    "## Total training"
   ]
  },
  {
   "cell_type": "markdown",
   "metadata": {},
   "source": [
    "Итоговое обучение модели"
   ]
  },
  {
   "cell_type": "code",
   "execution_count": 69,
   "metadata": {},
   "outputs": [],
   "source": [
    "max_itr = 500\n",
    "solver = 'saga'\n",
    "penalty = 'none'"
   ]
  },
  {
   "cell_type": "code",
   "execution_count": 70,
   "metadata": {},
   "outputs": [
    {
     "name": "stderr",
     "output_type": "stream",
     "text": [
      "D:\\Anaconda\\lib\\site-packages\\sklearn\\linear_model\\_sag.py:329: ConvergenceWarning: The max_iter was reached which means the coef_ did not converge\n",
      "  warnings.warn(\"The max_iter was reached which means \"\n",
      "D:\\Anaconda\\lib\\site-packages\\sklearn\\linear_model\\_sag.py:329: ConvergenceWarning: The max_iter was reached which means the coef_ did not converge\n",
      "  warnings.warn(\"The max_iter was reached which means \"\n",
      "D:\\Anaconda\\lib\\site-packages\\sklearn\\linear_model\\_sag.py:329: ConvergenceWarning: The max_iter was reached which means the coef_ did not converge\n",
      "  warnings.warn(\"The max_iter was reached which means \"\n"
     ]
    },
    {
     "name": "stdout",
     "output_type": "stream",
     "text": [
      "Cross val scores: [0.4929771  0.4935327  0.49510663]\n",
      "Mean cross val score: 0.4939\n",
      "----------------------------------------\n"
     ]
    },
    {
     "name": "stderr",
     "output_type": "stream",
     "text": [
      "D:\\Anaconda\\lib\\site-packages\\sklearn\\linear_model\\_sag.py:329: ConvergenceWarning: The max_iter was reached which means the coef_ did not converge\n",
      "  warnings.warn(\"The max_iter was reached which means \"\n"
     ]
    },
    {
     "name": "stdout",
     "output_type": "stream",
     "text": [
      "Train score\n",
      "0.5343   Custom f-score\n",
      "0.5106   Contradiction's recall\n",
      "0.5746   Accuracy\n",
      "               precision    recall    fscore\n",
      "contradiction   0.584651  0.510622  0.517171\n",
      "neutral         0.574966  0.573117  0.573301\n",
      "entailment      0.566524  0.640081  0.631877\n",
      "Weighted*       0.581870  0.529818  0.534254\n",
      "----------------------------------------\n",
      "Val score\n",
      "0.4796   Custom f-score\n",
      "0.4560   Contradiction's recall\n",
      "0.5243   Accuracy\n",
      "               precision    recall    fscore\n",
      "contradiction   0.516937  0.455960  0.461403\n",
      "neutral         0.502333  0.517131  0.515612\n",
      "entailment      0.548593  0.593849  0.588990\n",
      "Weighted*       0.518642  0.475866  0.479582\n"
     ]
    }
   ],
   "source": [
    "clf = LogisticRegression(solver = solver, max_iter = max_itr, penalty = penalty)\n",
    "\n",
    "scores = cross_val_score(clf, X_train, y_train, cv=3, scoring= f_scorer)\n",
    "print(f'Cross val scores: {scores}')\n",
    "print(f'Mean cross val score: {scores.mean():.4f}')\n",
    "print('-'*40)\n",
    "\n",
    "clf.fit(X_train, y_train)\n",
    "y_train_preds = clf.predict(X_train)\n",
    "y_val_preds = clf.predict(X_val)\n",
    "\n",
    "print('Train score')\n",
    "print_metric(y_train, y_train_preds)\n",
    "print('-'*40)\n",
    "\n",
    "print('Val score')\n",
    "print_metric(y_val, y_val_preds)"
   ]
  },
  {
   "cell_type": "markdown",
   "metadata": {},
   "source": [
    "## Результаты"
   ]
  },
  {
   "cell_type": "markdown",
   "metadata": {},
   "source": [
    "Получение и сохранение результатов на тестовой выборке"
   ]
  },
  {
   "cell_type": "code",
   "execution_count": 75,
   "metadata": {},
   "outputs": [
    {
     "name": "stdout",
     "output_type": "stream",
     "text": [
      "Test score\n",
      "0.0000   Custom f-score\n",
      "0.0000   Contradiction's recall\n",
      "0.0000   Accuracy\n",
      "               precision  recall  fscore\n",
      "contradiction        0.0     0.0     0.0\n",
      "neutral              0.0     0.0     0.0\n",
      "entailment           0.0     0.0     0.0\n",
      "Weighted*            0.0     0.0     0.0\n",
      "----------------------------------------\n"
     ]
    },
    {
     "name": "stderr",
     "output_type": "stream",
     "text": [
      "D:\\Anaconda\\lib\\site-packages\\sklearn\\metrics\\_classification.py:1221: UndefinedMetricWarning: Recall and F-score are ill-defined and being set to 0.0 in labels with no true samples. Use `zero_division` parameter to control this behavior.\n",
      "  _warn_prf(average, modifier, msg_start, len(result))\n"
     ]
    }
   ],
   "source": [
    "y_test_preds = clf.predict(X_test)\n",
    "\n",
    "print('Test score')\n",
    "print_metric(y_test, y_test_preds)\n",
    "print('-'*40)"
   ]
  },
  {
   "cell_type": "code",
   "execution_count": 74,
   "metadata": {},
   "outputs": [],
   "source": [
    "output = pd.DataFrame({'pairID': test_matched.pairID, 'predicted_label': y_test_preds}) \n",
    "output.to_csv('results.csv', index=False)"
   ]
  },
  {
   "cell_type": "code",
   "execution_count": null,
   "metadata": {},
   "outputs": [],
   "source": []
  },
  {
   "cell_type": "code",
   "execution_count": null,
   "metadata": {},
   "outputs": [],
   "source": []
  },
  {
   "cell_type": "code",
   "execution_count": null,
   "metadata": {},
   "outputs": [],
   "source": []
  },
  {
   "cell_type": "code",
   "execution_count": null,
   "metadata": {},
   "outputs": [],
   "source": []
  }
 ],
 "metadata": {
  "kernelspec": {
   "display_name": "Python 3",
   "language": "python",
   "name": "python3"
  },
  "language_info": {
   "codemirror_mode": {
    "name": "ipython",
    "version": 3
   },
   "file_extension": ".py",
   "mimetype": "text/x-python",
   "name": "python",
   "nbconvert_exporter": "python",
   "pygments_lexer": "ipython3",
   "version": "3.8.5"
  }
 },
 "nbformat": 4,
 "nbformat_minor": 4
}
