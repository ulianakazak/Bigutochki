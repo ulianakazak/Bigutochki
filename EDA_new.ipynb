{
 "cells": [
  {
   "cell_type": "code",
   "execution_count": 1,
   "metadata": {},
   "outputs": [],
   "source": [
    "import pandas as pd\n",
    "import numpy as np\n",
    "import matplotlib.pyplot as plt\n",
    "import seaborn as sns\n",
    "%matplotlib inline"
   ]
  },
  {
   "cell_type": "code",
   "execution_count": 2,
   "metadata": {},
   "outputs": [],
   "source": [
    "import re"
   ]
  },
  {
   "cell_type": "code",
   "execution_count": 3,
   "metadata": {},
   "outputs": [],
   "source": [
    "from sklearn.feature_extraction.text import TfidfVectorizer\n",
    "from nltk.corpus import stopwords"
   ]
  },
  {
   "cell_type": "code",
   "execution_count": 4,
   "metadata": {},
   "outputs": [
    {
     "name": "stderr",
     "output_type": "stream",
     "text": [
      "[nltk_data] Downloading package wordnet to\n",
      "[nltk_data]     C:\\Users\\Julia\\AppData\\Roaming\\nltk_data...\n",
      "[nltk_data]   Package wordnet is already up-to-date!\n"
     ]
    }
   ],
   "source": [
    "import collections\n",
    "import nltk\n",
    "nltk.download('wordnet')\n",
    "from nltk.stem import WordNetLemmatizer \n",
    "lemmatizer = WordNetLemmatizer()"
   ]
  },
  {
   "cell_type": "code",
   "execution_count": 5,
   "metadata": {},
   "outputs": [],
   "source": [
    "from nltk.tokenize import RegexpTokenizer\n",
    "tokenizer = RegexpTokenizer(r'\\w+')"
   ]
  },
  {
   "cell_type": "code",
   "execution_count": 6,
   "metadata": {},
   "outputs": [],
   "source": [
    "train = pd.read_json('snli_1.0_train.jsonl', lines = True)\n",
    "test = pd.read_json('snli_1.0_test.jsonl', lines = True)\n",
    "val = pd.read_json('snli_1.0_dev.jsonl', lines = True)\n",
    "full = {'train': train, 'val':val, 'test': test}"
   ]
  },
  {
   "cell_type": "code",
   "execution_count": 7,
   "metadata": {},
   "outputs": [],
   "source": [
    "def delete_unsure_labels(data):\n",
    "    data = data.drop(index = data[data.gold_label == '-'].index)\n",
    "    return data\n",
    "\n",
    "\n",
    "for frame in full:\n",
    "    full[frame] = delete_unsure_labels(full[frame])"
   ]
  },
  {
   "cell_type": "code",
   "execution_count": 8,
   "metadata": {},
   "outputs": [],
   "source": [
    "train = full['train']\n",
    "val = full['val']\n",
    "test = full['test']"
   ]
  },
  {
   "cell_type": "markdown",
   "metadata": {},
   "source": [
    "Добавляем столбцы с постэгами"
   ]
  },
  {
   "cell_type": "code",
   "execution_count": 66,
   "metadata": {},
   "outputs": [],
   "source": [
    "def PoS(data):\n",
    "    data['PoS_1'] = data['sentence1_parse'].apply(lambda x: re.findall('\\((\\w+) \\w+\\)', x))\n",
    "    data['PoS_2'] = data['sentence2_parse'].apply(lambda x: re.findall('\\((\\w+) \\w+\\)', x))"
   ]
  },
  {
   "cell_type": "code",
   "execution_count": 67,
   "metadata": {},
   "outputs": [],
   "source": [
    "PoS(val)\n",
    "PoS(train)\n",
    "PoS(test)"
   ]
  },
  {
   "cell_type": "code",
   "execution_count": 68,
   "metadata": {
    "scrolled": true
   },
   "outputs": [
    {
     "data": {
      "text/html": [
       "<div>\n",
       "<style scoped>\n",
       "    .dataframe tbody tr th:only-of-type {\n",
       "        vertical-align: middle;\n",
       "    }\n",
       "\n",
       "    .dataframe tbody tr th {\n",
       "        vertical-align: top;\n",
       "    }\n",
       "\n",
       "    .dataframe thead th {\n",
       "        text-align: right;\n",
       "    }\n",
       "</style>\n",
       "<table border=\"1\" class=\"dataframe\">\n",
       "  <thead>\n",
       "    <tr style=\"text-align: right;\">\n",
       "      <th></th>\n",
       "      <th>annotator_labels</th>\n",
       "      <th>captionID</th>\n",
       "      <th>gold_label</th>\n",
       "      <th>pairID</th>\n",
       "      <th>sentence1</th>\n",
       "      <th>sentence1_binary_parse</th>\n",
       "      <th>sentence1_parse</th>\n",
       "      <th>sentence2</th>\n",
       "      <th>sentence2_binary_parse</th>\n",
       "      <th>sentence2_parse</th>\n",
       "      <th>sentence1_lemmas</th>\n",
       "      <th>sentence2_lemmas</th>\n",
       "      <th>sentence1_len</th>\n",
       "      <th>sentence2_len</th>\n",
       "      <th>PoS_1</th>\n",
       "      <th>PoS_2</th>\n",
       "    </tr>\n",
       "  </thead>\n",
       "  <tbody>\n",
       "    <tr>\n",
       "      <th>0</th>\n",
       "      <td>[neutral]</td>\n",
       "      <td>3416050480.jpg#4</td>\n",
       "      <td>neutral</td>\n",
       "      <td>3416050480.jpg#4r1n</td>\n",
       "      <td>A person on a horse jumps over a broken down a...</td>\n",
       "      <td>( ( ( A person ) ( on ( a horse ) ) ) ( ( jump...</td>\n",
       "      <td>(ROOT (S (NP (NP (DT A) (NN person)) (PP (IN o...</td>\n",
       "      <td>A person is training his horse for a competition.</td>\n",
       "      <td>( ( A person ) ( ( is ( ( training ( his horse...</td>\n",
       "      <td>(ROOT (S (NP (DT A) (NN person)) (VP (VBZ is) ...</td>\n",
       "      <td>[a, person, on, a, horse, jumps, over, a, brok...</td>\n",
       "      <td>[a, person, is, training, his, horse, for, a, ...</td>\n",
       "      <td>11</td>\n",
       "      <td>9</td>\n",
       "      <td>[DT, NN, IN, DT, NN, VBZ, IN, DT, JJ, JJ, NN]</td>\n",
       "      <td>[DT, NN, VBZ, VBG, NN, IN, DT, NN]</td>\n",
       "    </tr>\n",
       "    <tr>\n",
       "      <th>1</th>\n",
       "      <td>[contradiction]</td>\n",
       "      <td>3416050480.jpg#4</td>\n",
       "      <td>contradiction</td>\n",
       "      <td>3416050480.jpg#4r1c</td>\n",
       "      <td>A person on a horse jumps over a broken down a...</td>\n",
       "      <td>( ( ( A person ) ( on ( a horse ) ) ) ( ( jump...</td>\n",
       "      <td>(ROOT (S (NP (NP (DT A) (NN person)) (PP (IN o...</td>\n",
       "      <td>A person is at a diner, ordering an omelette.</td>\n",
       "      <td>( ( A person ) ( ( ( ( is ( at ( a diner ) ) )...</td>\n",
       "      <td>(ROOT (S (NP (DT A) (NN person)) (VP (VBZ is) ...</td>\n",
       "      <td>[a, person, on, a, horse, jumps, over, a, brok...</td>\n",
       "      <td>[a, person, is, at, a, diner, ordering, an, om...</td>\n",
       "      <td>11</td>\n",
       "      <td>9</td>\n",
       "      <td>[DT, NN, IN, DT, NN, VBZ, IN, DT, JJ, JJ, NN]</td>\n",
       "      <td>[DT, NN, VBZ, IN, DT, NN, VBG, DT, NN]</td>\n",
       "    </tr>\n",
       "    <tr>\n",
       "      <th>2</th>\n",
       "      <td>[entailment]</td>\n",
       "      <td>3416050480.jpg#4</td>\n",
       "      <td>entailment</td>\n",
       "      <td>3416050480.jpg#4r1e</td>\n",
       "      <td>A person on a horse jumps over a broken down a...</td>\n",
       "      <td>( ( ( A person ) ( on ( a horse ) ) ) ( ( jump...</td>\n",
       "      <td>(ROOT (S (NP (NP (DT A) (NN person)) (PP (IN o...</td>\n",
       "      <td>A person is outdoors, on a horse.</td>\n",
       "      <td>( ( A person ) ( ( ( ( is outdoors ) , ) ( on ...</td>\n",
       "      <td>(ROOT (S (NP (DT A) (NN person)) (VP (VBZ is) ...</td>\n",
       "      <td>[a, person, on, a, horse, jumps, over, a, brok...</td>\n",
       "      <td>[a, person, is, outdoors, on, a, horse]</td>\n",
       "      <td>11</td>\n",
       "      <td>7</td>\n",
       "      <td>[DT, NN, IN, DT, NN, VBZ, IN, DT, JJ, JJ, NN]</td>\n",
       "      <td>[DT, NN, VBZ, RB, IN, DT, NN]</td>\n",
       "    </tr>\n",
       "    <tr>\n",
       "      <th>3</th>\n",
       "      <td>[neutral]</td>\n",
       "      <td>2267923837.jpg#2</td>\n",
       "      <td>neutral</td>\n",
       "      <td>2267923837.jpg#2r1n</td>\n",
       "      <td>Children smiling and waving at camera</td>\n",
       "      <td>( Children ( ( ( smiling and ) waving ) ( at c...</td>\n",
       "      <td>(ROOT (NP (S (NP (NNP Children)) (VP (VBG smil...</td>\n",
       "      <td>They are smiling at their parents</td>\n",
       "      <td>( They ( are ( smiling ( at ( their parents ) ...</td>\n",
       "      <td>(ROOT (S (NP (PRP They)) (VP (VBP are) (VP (VB...</td>\n",
       "      <td>[children, smiling, and, waving, at, camera]</td>\n",
       "      <td>[they, are, smiling, at, their, parents]</td>\n",
       "      <td>6</td>\n",
       "      <td>6</td>\n",
       "      <td>[NNP, VBG, CC, VBG, IN, NN]</td>\n",
       "      <td>[PRP, VBP, VBG, IN, NNS]</td>\n",
       "    </tr>\n",
       "    <tr>\n",
       "      <th>4</th>\n",
       "      <td>[entailment]</td>\n",
       "      <td>2267923837.jpg#2</td>\n",
       "      <td>entailment</td>\n",
       "      <td>2267923837.jpg#2r1e</td>\n",
       "      <td>Children smiling and waving at camera</td>\n",
       "      <td>( Children ( ( ( smiling and ) waving ) ( at c...</td>\n",
       "      <td>(ROOT (NP (S (NP (NNP Children)) (VP (VBG smil...</td>\n",
       "      <td>There are children present</td>\n",
       "      <td>( There ( ( are children ) present ) )</td>\n",
       "      <td>(ROOT (S (NP (EX There)) (VP (VBP are) (NP (NN...</td>\n",
       "      <td>[children, smiling, and, waving, at, camera]</td>\n",
       "      <td>[there, are, children, present]</td>\n",
       "      <td>6</td>\n",
       "      <td>4</td>\n",
       "      <td>[NNP, VBG, CC, VBG, IN, NN]</td>\n",
       "      <td>[EX, VBP, NNS, RB]</td>\n",
       "    </tr>\n",
       "    <tr>\n",
       "      <th>...</th>\n",
       "      <td>...</td>\n",
       "      <td>...</td>\n",
       "      <td>...</td>\n",
       "      <td>...</td>\n",
       "      <td>...</td>\n",
       "      <td>...</td>\n",
       "      <td>...</td>\n",
       "      <td>...</td>\n",
       "      <td>...</td>\n",
       "      <td>...</td>\n",
       "      <td>...</td>\n",
       "      <td>...</td>\n",
       "      <td>...</td>\n",
       "      <td>...</td>\n",
       "      <td>...</td>\n",
       "      <td>...</td>\n",
       "    </tr>\n",
       "    <tr>\n",
       "      <th>550147</th>\n",
       "      <td>[contradiction]</td>\n",
       "      <td>2267923837.jpg#3</td>\n",
       "      <td>contradiction</td>\n",
       "      <td>2267923837.jpg#3r1c</td>\n",
       "      <td>Four dirty and barefooted children.</td>\n",
       "      <td>( ( ( ( Four dirty ) and ) ( barefooted childr...</td>\n",
       "      <td>(ROOT (NP (NP (CD Four) (NNS dirty)) (CC and) ...</td>\n",
       "      <td>four kids won awards for 'cleanest feet'</td>\n",
       "      <td>( ( four kids ) ( ( won awards ) ( ( ( for ` )...</td>\n",
       "      <td>(ROOT (S (NP (CD four) (NNS kids)) (VP (VBD wo...</td>\n",
       "      <td>[four, dirty, and, barefooted, children]</td>\n",
       "      <td>[four, kids, won, awards, for, cleanest, feet]</td>\n",
       "      <td>5</td>\n",
       "      <td>7</td>\n",
       "      <td>[CD, NNS, CC, VBN, NNS]</td>\n",
       "      <td>[CD, NNS, VBD, NNS, IN, JJ, NNS]</td>\n",
       "    </tr>\n",
       "    <tr>\n",
       "      <th>550148</th>\n",
       "      <td>[neutral]</td>\n",
       "      <td>2267923837.jpg#3</td>\n",
       "      <td>neutral</td>\n",
       "      <td>2267923837.jpg#3r1n</td>\n",
       "      <td>Four dirty and barefooted children.</td>\n",
       "      <td>( ( ( ( Four dirty ) and ) ( barefooted childr...</td>\n",
       "      <td>(ROOT (NP (NP (CD Four) (NNS dirty)) (CC and) ...</td>\n",
       "      <td>four homeless children had their shoes stolen,...</td>\n",
       "      <td>( ( ( ( ( ( four ( homeless children ) ) ( had...</td>\n",
       "      <td>(ROOT (S (S (NP (CD four) (JJ homeless) (NNS c...</td>\n",
       "      <td>[four, dirty, and, barefooted, children]</td>\n",
       "      <td>[four, homeless, children, had, their, shoes, ...</td>\n",
       "      <td>5</td>\n",
       "      <td>12</td>\n",
       "      <td>[CD, NNS, CC, VBN, NNS]</td>\n",
       "      <td>[CD, JJ, NNS, VBD, NNS, VBN, IN, NNS, VBP, JJ]</td>\n",
       "    </tr>\n",
       "    <tr>\n",
       "      <th>550149</th>\n",
       "      <td>[neutral]</td>\n",
       "      <td>7979219683.jpg#2</td>\n",
       "      <td>neutral</td>\n",
       "      <td>7979219683.jpg#2r1n</td>\n",
       "      <td>A man is surfing in a bodysuit in beautiful bl...</td>\n",
       "      <td>( ( A man ) ( ( is ( surfing ( in ( ( a bodysu...</td>\n",
       "      <td>(ROOT (S (NP (DT A) (NN man)) (VP (VBZ is) (VP...</td>\n",
       "      <td>A man in a bodysuit is competing in a surfing ...</td>\n",
       "      <td>( ( ( A man ) ( in ( a bodysuit ) ) ) ( ( is (...</td>\n",
       "      <td>(ROOT (S (NP (NP (DT A) (NN man)) (PP (IN in) ...</td>\n",
       "      <td>[a, man, is, surfing, in, a, bodysuit, in, bea...</td>\n",
       "      <td>[a, man, in, a, bodysuit, is, competing, in, a...</td>\n",
       "      <td>11</td>\n",
       "      <td>11</td>\n",
       "      <td>[DT, NN, VBZ, VBG, IN, DT, NN, IN, JJ, JJ, NN]</td>\n",
       "      <td>[DT, NN, IN, DT, NN, VBZ, VBG, IN, DT, VBG, NN]</td>\n",
       "    </tr>\n",
       "    <tr>\n",
       "      <th>550150</th>\n",
       "      <td>[contradiction]</td>\n",
       "      <td>7979219683.jpg#2</td>\n",
       "      <td>contradiction</td>\n",
       "      <td>7979219683.jpg#2r1c</td>\n",
       "      <td>A man is surfing in a bodysuit in beautiful bl...</td>\n",
       "      <td>( ( A man ) ( ( is ( surfing ( in ( ( a bodysu...</td>\n",
       "      <td>(ROOT (S (NP (DT A) (NN man)) (VP (VBZ is) (VP...</td>\n",
       "      <td>A man in a business suit is heading to a board...</td>\n",
       "      <td>( ( ( A man ) ( in ( a ( business suit ) ) ) )...</td>\n",
       "      <td>(ROOT (S (NP (NP (DT A) (NN man)) (PP (IN in) ...</td>\n",
       "      <td>[a, man, is, surfing, in, a, bodysuit, in, bea...</td>\n",
       "      <td>[a, man, in, a, business, suit, is, heading, t...</td>\n",
       "      <td>11</td>\n",
       "      <td>12</td>\n",
       "      <td>[DT, NN, VBZ, VBG, IN, DT, NN, IN, JJ, JJ, NN]</td>\n",
       "      <td>[DT, NN, IN, DT, NN, NN, VBZ, VBG, TO, DT, NN,...</td>\n",
       "    </tr>\n",
       "    <tr>\n",
       "      <th>550151</th>\n",
       "      <td>[entailment]</td>\n",
       "      <td>7979219683.jpg#2</td>\n",
       "      <td>entailment</td>\n",
       "      <td>7979219683.jpg#2r1e</td>\n",
       "      <td>A man is surfing in a bodysuit in beautiful bl...</td>\n",
       "      <td>( ( A man ) ( ( is ( surfing ( in ( ( a bodysu...</td>\n",
       "      <td>(ROOT (S (NP (DT A) (NN man)) (VP (VBZ is) (VP...</td>\n",
       "      <td>On the beautiful blue water there is a man in ...</td>\n",
       "      <td>( ( On ( the ( beautiful ( blue water ) ) ) ) ...</td>\n",
       "      <td>(ROOT (S (PP (IN On) (NP (DT the) (JJ beautifu...</td>\n",
       "      <td>[a, man, is, surfing, in, a, bodysuit, in, bea...</td>\n",
       "      <td>[on, the, beautiful, blue, water, there, is, a...</td>\n",
       "      <td>11</td>\n",
       "      <td>13</td>\n",
       "      <td>[DT, NN, VBZ, VBG, IN, DT, NN, IN, JJ, JJ, NN]</td>\n",
       "      <td>[IN, DT, JJ, JJ, NN, EX, VBZ, DT, NN, IN, DT, ...</td>\n",
       "    </tr>\n",
       "  </tbody>\n",
       "</table>\n",
       "<p>549367 rows × 16 columns</p>\n",
       "</div>"
      ],
      "text/plain": [
       "       annotator_labels         captionID     gold_label               pairID  \\\n",
       "0             [neutral]  3416050480.jpg#4        neutral  3416050480.jpg#4r1n   \n",
       "1       [contradiction]  3416050480.jpg#4  contradiction  3416050480.jpg#4r1c   \n",
       "2          [entailment]  3416050480.jpg#4     entailment  3416050480.jpg#4r1e   \n",
       "3             [neutral]  2267923837.jpg#2        neutral  2267923837.jpg#2r1n   \n",
       "4          [entailment]  2267923837.jpg#2     entailment  2267923837.jpg#2r1e   \n",
       "...                 ...               ...            ...                  ...   \n",
       "550147  [contradiction]  2267923837.jpg#3  contradiction  2267923837.jpg#3r1c   \n",
       "550148        [neutral]  2267923837.jpg#3        neutral  2267923837.jpg#3r1n   \n",
       "550149        [neutral]  7979219683.jpg#2        neutral  7979219683.jpg#2r1n   \n",
       "550150  [contradiction]  7979219683.jpg#2  contradiction  7979219683.jpg#2r1c   \n",
       "550151     [entailment]  7979219683.jpg#2     entailment  7979219683.jpg#2r1e   \n",
       "\n",
       "                                                sentence1  \\\n",
       "0       A person on a horse jumps over a broken down a...   \n",
       "1       A person on a horse jumps over a broken down a...   \n",
       "2       A person on a horse jumps over a broken down a...   \n",
       "3                   Children smiling and waving at camera   \n",
       "4                   Children smiling and waving at camera   \n",
       "...                                                   ...   \n",
       "550147                Four dirty and barefooted children.   \n",
       "550148                Four dirty and barefooted children.   \n",
       "550149  A man is surfing in a bodysuit in beautiful bl...   \n",
       "550150  A man is surfing in a bodysuit in beautiful bl...   \n",
       "550151  A man is surfing in a bodysuit in beautiful bl...   \n",
       "\n",
       "                                   sentence1_binary_parse  \\\n",
       "0       ( ( ( A person ) ( on ( a horse ) ) ) ( ( jump...   \n",
       "1       ( ( ( A person ) ( on ( a horse ) ) ) ( ( jump...   \n",
       "2       ( ( ( A person ) ( on ( a horse ) ) ) ( ( jump...   \n",
       "3       ( Children ( ( ( smiling and ) waving ) ( at c...   \n",
       "4       ( Children ( ( ( smiling and ) waving ) ( at c...   \n",
       "...                                                   ...   \n",
       "550147  ( ( ( ( Four dirty ) and ) ( barefooted childr...   \n",
       "550148  ( ( ( ( Four dirty ) and ) ( barefooted childr...   \n",
       "550149  ( ( A man ) ( ( is ( surfing ( in ( ( a bodysu...   \n",
       "550150  ( ( A man ) ( ( is ( surfing ( in ( ( a bodysu...   \n",
       "550151  ( ( A man ) ( ( is ( surfing ( in ( ( a bodysu...   \n",
       "\n",
       "                                          sentence1_parse  \\\n",
       "0       (ROOT (S (NP (NP (DT A) (NN person)) (PP (IN o...   \n",
       "1       (ROOT (S (NP (NP (DT A) (NN person)) (PP (IN o...   \n",
       "2       (ROOT (S (NP (NP (DT A) (NN person)) (PP (IN o...   \n",
       "3       (ROOT (NP (S (NP (NNP Children)) (VP (VBG smil...   \n",
       "4       (ROOT (NP (S (NP (NNP Children)) (VP (VBG smil...   \n",
       "...                                                   ...   \n",
       "550147  (ROOT (NP (NP (CD Four) (NNS dirty)) (CC and) ...   \n",
       "550148  (ROOT (NP (NP (CD Four) (NNS dirty)) (CC and) ...   \n",
       "550149  (ROOT (S (NP (DT A) (NN man)) (VP (VBZ is) (VP...   \n",
       "550150  (ROOT (S (NP (DT A) (NN man)) (VP (VBZ is) (VP...   \n",
       "550151  (ROOT (S (NP (DT A) (NN man)) (VP (VBZ is) (VP...   \n",
       "\n",
       "                                                sentence2  \\\n",
       "0       A person is training his horse for a competition.   \n",
       "1           A person is at a diner, ordering an omelette.   \n",
       "2                       A person is outdoors, on a horse.   \n",
       "3                       They are smiling at their parents   \n",
       "4                              There are children present   \n",
       "...                                                   ...   \n",
       "550147           four kids won awards for 'cleanest feet'   \n",
       "550148  four homeless children had their shoes stolen,...   \n",
       "550149  A man in a bodysuit is competing in a surfing ...   \n",
       "550150  A man in a business suit is heading to a board...   \n",
       "550151  On the beautiful blue water there is a man in ...   \n",
       "\n",
       "                                   sentence2_binary_parse  \\\n",
       "0       ( ( A person ) ( ( is ( ( training ( his horse...   \n",
       "1       ( ( A person ) ( ( ( ( is ( at ( a diner ) ) )...   \n",
       "2       ( ( A person ) ( ( ( ( is outdoors ) , ) ( on ...   \n",
       "3       ( They ( are ( smiling ( at ( their parents ) ...   \n",
       "4                  ( There ( ( are children ) present ) )   \n",
       "...                                                   ...   \n",
       "550147  ( ( four kids ) ( ( won awards ) ( ( ( for ` )...   \n",
       "550148  ( ( ( ( ( ( four ( homeless children ) ) ( had...   \n",
       "550149  ( ( ( A man ) ( in ( a bodysuit ) ) ) ( ( is (...   \n",
       "550150  ( ( ( A man ) ( in ( a ( business suit ) ) ) )...   \n",
       "550151  ( ( On ( the ( beautiful ( blue water ) ) ) ) ...   \n",
       "\n",
       "                                          sentence2_parse  \\\n",
       "0       (ROOT (S (NP (DT A) (NN person)) (VP (VBZ is) ...   \n",
       "1       (ROOT (S (NP (DT A) (NN person)) (VP (VBZ is) ...   \n",
       "2       (ROOT (S (NP (DT A) (NN person)) (VP (VBZ is) ...   \n",
       "3       (ROOT (S (NP (PRP They)) (VP (VBP are) (VP (VB...   \n",
       "4       (ROOT (S (NP (EX There)) (VP (VBP are) (NP (NN...   \n",
       "...                                                   ...   \n",
       "550147  (ROOT (S (NP (CD four) (NNS kids)) (VP (VBD wo...   \n",
       "550148  (ROOT (S (S (NP (CD four) (JJ homeless) (NNS c...   \n",
       "550149  (ROOT (S (NP (NP (DT A) (NN man)) (PP (IN in) ...   \n",
       "550150  (ROOT (S (NP (NP (DT A) (NN man)) (PP (IN in) ...   \n",
       "550151  (ROOT (S (PP (IN On) (NP (DT the) (JJ beautifu...   \n",
       "\n",
       "                                         sentence1_lemmas  \\\n",
       "0       [a, person, on, a, horse, jumps, over, a, brok...   \n",
       "1       [a, person, on, a, horse, jumps, over, a, brok...   \n",
       "2       [a, person, on, a, horse, jumps, over, a, brok...   \n",
       "3            [children, smiling, and, waving, at, camera]   \n",
       "4            [children, smiling, and, waving, at, camera]   \n",
       "...                                                   ...   \n",
       "550147           [four, dirty, and, barefooted, children]   \n",
       "550148           [four, dirty, and, barefooted, children]   \n",
       "550149  [a, man, is, surfing, in, a, bodysuit, in, bea...   \n",
       "550150  [a, man, is, surfing, in, a, bodysuit, in, bea...   \n",
       "550151  [a, man, is, surfing, in, a, bodysuit, in, bea...   \n",
       "\n",
       "                                         sentence2_lemmas  sentence1_len  \\\n",
       "0       [a, person, is, training, his, horse, for, a, ...             11   \n",
       "1       [a, person, is, at, a, diner, ordering, an, om...             11   \n",
       "2                 [a, person, is, outdoors, on, a, horse]             11   \n",
       "3                [they, are, smiling, at, their, parents]              6   \n",
       "4                         [there, are, children, present]              6   \n",
       "...                                                   ...            ...   \n",
       "550147     [four, kids, won, awards, for, cleanest, feet]              5   \n",
       "550148  [four, homeless, children, had, their, shoes, ...              5   \n",
       "550149  [a, man, in, a, bodysuit, is, competing, in, a...             11   \n",
       "550150  [a, man, in, a, business, suit, is, heading, t...             11   \n",
       "550151  [on, the, beautiful, blue, water, there, is, a...             11   \n",
       "\n",
       "        sentence2_len                                           PoS_1  \\\n",
       "0                   9   [DT, NN, IN, DT, NN, VBZ, IN, DT, JJ, JJ, NN]   \n",
       "1                   9   [DT, NN, IN, DT, NN, VBZ, IN, DT, JJ, JJ, NN]   \n",
       "2                   7   [DT, NN, IN, DT, NN, VBZ, IN, DT, JJ, JJ, NN]   \n",
       "3                   6                     [NNP, VBG, CC, VBG, IN, NN]   \n",
       "4                   4                     [NNP, VBG, CC, VBG, IN, NN]   \n",
       "...               ...                                             ...   \n",
       "550147              7                         [CD, NNS, CC, VBN, NNS]   \n",
       "550148             12                         [CD, NNS, CC, VBN, NNS]   \n",
       "550149             11  [DT, NN, VBZ, VBG, IN, DT, NN, IN, JJ, JJ, NN]   \n",
       "550150             12  [DT, NN, VBZ, VBG, IN, DT, NN, IN, JJ, JJ, NN]   \n",
       "550151             13  [DT, NN, VBZ, VBG, IN, DT, NN, IN, JJ, JJ, NN]   \n",
       "\n",
       "                                                    PoS_2  \n",
       "0                      [DT, NN, VBZ, VBG, NN, IN, DT, NN]  \n",
       "1                  [DT, NN, VBZ, IN, DT, NN, VBG, DT, NN]  \n",
       "2                           [DT, NN, VBZ, RB, IN, DT, NN]  \n",
       "3                                [PRP, VBP, VBG, IN, NNS]  \n",
       "4                                      [EX, VBP, NNS, RB]  \n",
       "...                                                   ...  \n",
       "550147                   [CD, NNS, VBD, NNS, IN, JJ, NNS]  \n",
       "550148     [CD, JJ, NNS, VBD, NNS, VBN, IN, NNS, VBP, JJ]  \n",
       "550149    [DT, NN, IN, DT, NN, VBZ, VBG, IN, DT, VBG, NN]  \n",
       "550150  [DT, NN, IN, DT, NN, NN, VBZ, VBG, TO, DT, NN,...  \n",
       "550151  [IN, DT, JJ, JJ, NN, EX, VBZ, DT, NN, IN, DT, ...  \n",
       "\n",
       "[549367 rows x 16 columns]"
      ]
     },
     "execution_count": 68,
     "metadata": {},
     "output_type": "execute_result"
    }
   ],
   "source": [
    "train"
   ]
  },
  {
   "cell_type": "markdown",
   "metadata": {},
   "source": [
    "Добавляем столбцы с леммами и количеством токенов"
   ]
  },
  {
   "cell_type": "code",
   "execution_count": 9,
   "metadata": {},
   "outputs": [],
   "source": [
    "def add_lemmas(data):\n",
    "    data['sentence1_lemmas'] = data['sentence1'].apply(lambda x: tokenizer.tokenize(x.lower()))\n",
    "    data['sentence2_lemmas'] = data['sentence2'].apply(lambda x: tokenizer.tokenize(x.lower()))\n",
    "    data['sentence1_len'] = data['sentence1_lemmas'].apply(lambda x: len(x))\n",
    "    data['sentence2_len'] = data['sentence2_lemmas'].apply(lambda x: len(x))"
   ]
  },
  {
   "cell_type": "code",
   "execution_count": 10,
   "metadata": {},
   "outputs": [],
   "source": [
    "add_lemmas(train)\n",
    "add_lemmas(val)\n",
    "add_lemmas(test)"
   ]
  },
  {
   "cell_type": "markdown",
   "metadata": {},
   "source": [
    "Смотрим на распределение количества токенов"
   ]
  },
  {
   "cell_type": "code",
   "execution_count": 15,
   "metadata": {},
   "outputs": [],
   "source": [
    "df2 = train[['gold_label', 'sentence1_len', 'sentence2_len']].append(val[['gold_label', 'sentence1_len', 'sentence2_len']]).append(test[['gold_label', 'sentence1_len', 'sentence2_len']])"
   ]
  },
  {
   "cell_type": "code",
   "execution_count": 16,
   "metadata": {},
   "outputs": [
    {
     "data": {
      "text/html": [
       "<div>\n",
       "<style scoped>\n",
       "    .dataframe tbody tr th:only-of-type {\n",
       "        vertical-align: middle;\n",
       "    }\n",
       "\n",
       "    .dataframe tbody tr th {\n",
       "        vertical-align: top;\n",
       "    }\n",
       "\n",
       "    .dataframe thead th {\n",
       "        text-align: right;\n",
       "    }\n",
       "</style>\n",
       "<table border=\"1\" class=\"dataframe\">\n",
       "  <thead>\n",
       "    <tr style=\"text-align: right;\">\n",
       "      <th></th>\n",
       "      <th>label</th>\n",
       "      <th>len</th>\n",
       "      <th>sentence</th>\n",
       "    </tr>\n",
       "  </thead>\n",
       "  <tbody>\n",
       "    <tr>\n",
       "      <th>0</th>\n",
       "      <td>neutral</td>\n",
       "      <td>11</td>\n",
       "      <td>1</td>\n",
       "    </tr>\n",
       "    <tr>\n",
       "      <th>1</th>\n",
       "      <td>contradiction</td>\n",
       "      <td>11</td>\n",
       "      <td>1</td>\n",
       "    </tr>\n",
       "    <tr>\n",
       "      <th>2</th>\n",
       "      <td>entailment</td>\n",
       "      <td>11</td>\n",
       "      <td>1</td>\n",
       "    </tr>\n",
       "    <tr>\n",
       "      <th>3</th>\n",
       "      <td>neutral</td>\n",
       "      <td>6</td>\n",
       "      <td>1</td>\n",
       "    </tr>\n",
       "    <tr>\n",
       "      <th>4</th>\n",
       "      <td>entailment</td>\n",
       "      <td>6</td>\n",
       "      <td>1</td>\n",
       "    </tr>\n",
       "    <tr>\n",
       "      <th>...</th>\n",
       "      <td>...</td>\n",
       "      <td>...</td>\n",
       "      <td>...</td>\n",
       "    </tr>\n",
       "    <tr>\n",
       "      <th>9995</th>\n",
       "      <td>contradiction</td>\n",
       "      <td>8</td>\n",
       "      <td>2</td>\n",
       "    </tr>\n",
       "    <tr>\n",
       "      <th>9996</th>\n",
       "      <td>entailment</td>\n",
       "      <td>6</td>\n",
       "      <td>2</td>\n",
       "    </tr>\n",
       "    <tr>\n",
       "      <th>9997</th>\n",
       "      <td>contradiction</td>\n",
       "      <td>6</td>\n",
       "      <td>2</td>\n",
       "    </tr>\n",
       "    <tr>\n",
       "      <th>9998</th>\n",
       "      <td>entailment</td>\n",
       "      <td>7</td>\n",
       "      <td>2</td>\n",
       "    </tr>\n",
       "    <tr>\n",
       "      <th>9999</th>\n",
       "      <td>neutral</td>\n",
       "      <td>8</td>\n",
       "      <td>2</td>\n",
       "    </tr>\n",
       "  </tbody>\n",
       "</table>\n",
       "<p>1138066 rows × 3 columns</p>\n",
       "</div>"
      ],
      "text/plain": [
       "              label  len  sentence\n",
       "0           neutral   11         1\n",
       "1     contradiction   11         1\n",
       "2        entailment   11         1\n",
       "3           neutral    6         1\n",
       "4        entailment    6         1\n",
       "...             ...  ...       ...\n",
       "9995  contradiction    8         2\n",
       "9996     entailment    6         2\n",
       "9997  contradiction    6         2\n",
       "9998     entailment    7         2\n",
       "9999        neutral    8         2\n",
       "\n",
       "[1138066 rows x 3 columns]"
      ]
     },
     "execution_count": 16,
     "metadata": {},
     "output_type": "execute_result"
    }
   ],
   "source": [
    "df3 = df2[['gold_label', 'sentence1_len']].rename(columns={'gold_label': 'label', 'sentence1_len': 'len'})\n",
    "df3['sentence'] = pd.DataFrame([1 for i in range(len(df3))])\n",
    "df4 = df2[['gold_label', 'sentence2_len']].rename(columns={'gold_label': 'label', 'sentence2_len': 'len'})\n",
    "df4['sentence'] = pd.DataFrame([2 for i in range(len(df4))])\n",
    "df5 = df3.append(df4)\n",
    "df5"
   ]
  },
  {
   "cell_type": "code",
   "execution_count": 26,
   "metadata": {},
   "outputs": [],
   "source": [
    "df5 = df5.rename(columns={'len': 'tokens'})"
   ]
  },
  {
   "cell_type": "code",
   "execution_count": 27,
   "metadata": {},
   "outputs": [
    {
     "data": {
      "text/html": [
       "<div>\n",
       "<style scoped>\n",
       "    .dataframe tbody tr th:only-of-type {\n",
       "        vertical-align: middle;\n",
       "    }\n",
       "\n",
       "    .dataframe tbody tr th {\n",
       "        vertical-align: top;\n",
       "    }\n",
       "\n",
       "    .dataframe thead th {\n",
       "        text-align: right;\n",
       "    }\n",
       "</style>\n",
       "<table border=\"1\" class=\"dataframe\">\n",
       "  <thead>\n",
       "    <tr style=\"text-align: right;\">\n",
       "      <th></th>\n",
       "      <th>label</th>\n",
       "      <th>tokens</th>\n",
       "      <th>sentence</th>\n",
       "    </tr>\n",
       "  </thead>\n",
       "  <tbody>\n",
       "    <tr>\n",
       "      <th>0</th>\n",
       "      <td>neutral</td>\n",
       "      <td>11</td>\n",
       "      <td>1</td>\n",
       "    </tr>\n",
       "    <tr>\n",
       "      <th>1</th>\n",
       "      <td>contradiction</td>\n",
       "      <td>11</td>\n",
       "      <td>1</td>\n",
       "    </tr>\n",
       "    <tr>\n",
       "      <th>2</th>\n",
       "      <td>entailment</td>\n",
       "      <td>11</td>\n",
       "      <td>1</td>\n",
       "    </tr>\n",
       "    <tr>\n",
       "      <th>3</th>\n",
       "      <td>neutral</td>\n",
       "      <td>6</td>\n",
       "      <td>1</td>\n",
       "    </tr>\n",
       "    <tr>\n",
       "      <th>4</th>\n",
       "      <td>entailment</td>\n",
       "      <td>6</td>\n",
       "      <td>1</td>\n",
       "    </tr>\n",
       "    <tr>\n",
       "      <th>...</th>\n",
       "      <td>...</td>\n",
       "      <td>...</td>\n",
       "      <td>...</td>\n",
       "    </tr>\n",
       "    <tr>\n",
       "      <th>9995</th>\n",
       "      <td>contradiction</td>\n",
       "      <td>8</td>\n",
       "      <td>2</td>\n",
       "    </tr>\n",
       "    <tr>\n",
       "      <th>9996</th>\n",
       "      <td>entailment</td>\n",
       "      <td>6</td>\n",
       "      <td>2</td>\n",
       "    </tr>\n",
       "    <tr>\n",
       "      <th>9997</th>\n",
       "      <td>contradiction</td>\n",
       "      <td>6</td>\n",
       "      <td>2</td>\n",
       "    </tr>\n",
       "    <tr>\n",
       "      <th>9998</th>\n",
       "      <td>entailment</td>\n",
       "      <td>7</td>\n",
       "      <td>2</td>\n",
       "    </tr>\n",
       "    <tr>\n",
       "      <th>9999</th>\n",
       "      <td>neutral</td>\n",
       "      <td>8</td>\n",
       "      <td>2</td>\n",
       "    </tr>\n",
       "  </tbody>\n",
       "</table>\n",
       "<p>1138066 rows × 3 columns</p>\n",
       "</div>"
      ],
      "text/plain": [
       "              label  tokens  sentence\n",
       "0           neutral      11         1\n",
       "1     contradiction      11         1\n",
       "2        entailment      11         1\n",
       "3           neutral       6         1\n",
       "4        entailment       6         1\n",
       "...             ...     ...       ...\n",
       "9995  contradiction       8         2\n",
       "9996     entailment       6         2\n",
       "9997  contradiction       6         2\n",
       "9998     entailment       7         2\n",
       "9999        neutral       8         2\n",
       "\n",
       "[1138066 rows x 3 columns]"
      ]
     },
     "execution_count": 27,
     "metadata": {},
     "output_type": "execute_result"
    }
   ],
   "source": [
    "df5"
   ]
  },
  {
   "cell_type": "code",
   "execution_count": 64,
   "metadata": {},
   "outputs": [
    {
     "data": {
      "image/png": "[encoded data removed]",
      "text/plain": [
       "<Figure size 432x288 with 1 Axes>"
      ]
     },
     "metadata": {
      "needs_background": "light"
     },
     "output_type": "display_data"
    }
   ],
   "source": [
    "sns.barplot(x=\"label\", y=\"tokens\", hue='sentence', data=df5, palette='winter')\n",
    "plt.title('Mean tokens per sentence');"
   ]
  },
  {
   "cell_type": "markdown",
   "metadata": {},
   "source": [
    "Составляем частотные словари лемм и постэгов"
   ]
  },
  {
   "cell_type": "code",
   "execution_count": 20,
   "metadata": {},
   "outputs": [],
   "source": [
    "def count_freq(data, di):\n",
    "    for ind, row in data.iterrows():\n",
    "        for lemma in row['sentence1_lemmas']:\n",
    "            if lemma not in stopwords.words('english'):\n",
    "                di['1'][row['gold_label']][lemma] += 1\n",
    "        for lemma in row['sentence2_lemmas']:\n",
    "            if lemma not in stopwords.words('english'):\n",
    "                di['2'][row['gold_label']][lemma] += 1"
   ]
  },
  {
   "cell_type": "code",
   "execution_count": 83,
   "metadata": {},
   "outputs": [],
   "source": [
    "def count_pos(data, di):\n",
    "    for ind, row in data.iterrows():\n",
    "        for PoS in row['PoS_1']:\n",
    "            di['1'][row['gold_label']][PoS] += 1\n",
    "        for PoS in row['PoS_2']:\n",
    "            di['2'][row['gold_label']][PoS] += 1"
   ]
  },
  {
   "cell_type": "code",
   "execution_count": 84,
   "metadata": {},
   "outputs": [],
   "source": [
    "data_pos = {'1': {'contradiction': collections.Counter(), 'entailment': collections.Counter(), 'neutral': collections.Counter()}, \n",
    "             '2': {'contradiction': collections.Counter(), 'entailment': collections.Counter(), 'neutral': collections.Counter()}}\n",
    "count_pos(train, data_pos)\n",
    "count_pos(test, data_pos)\n",
    "count_pos(val, data_pos)"
   ]
  },
  {
   "cell_type": "code",
   "execution_count": 38,
   "metadata": {},
   "outputs": [
    {
     "ename": "KeyboardInterrupt",
     "evalue": "",
     "output_type": "error",
     "traceback": [
      "\u001b[1;31m---------------------------------------------------------------------------\u001b[0m",
      "\u001b[1;31mKeyboardInterrupt\u001b[0m                         Traceback (most recent call last)",
      "\u001b[1;32m<ipython-input-38-66ccc57125f4>\u001b[0m in \u001b[0;36m<module>\u001b[1;34m\u001b[0m\n\u001b[0;32m      1\u001b[0m data_freq = {'1': {'contradiction': collections.Counter(), 'entailment': collections.Counter(), 'neutral': collections.Counter()}, \n\u001b[0;32m      2\u001b[0m              '2': {'contradiction': collections.Counter(), 'entailment': collections.Counter(), 'neutral': collections.Counter()}}\n\u001b[1;32m----> 3\u001b[1;33m \u001b[0mcount_freq\u001b[0m\u001b[1;33m(\u001b[0m\u001b[0mtrain\u001b[0m\u001b[1;33m,\u001b[0m \u001b[0mdata_freq\u001b[0m\u001b[1;33m)\u001b[0m\u001b[1;33m\u001b[0m\u001b[1;33m\u001b[0m\u001b[0m\n\u001b[0m\u001b[0;32m      4\u001b[0m \u001b[0mcount_freq\u001b[0m\u001b[1;33m(\u001b[0m\u001b[0mtest\u001b[0m\u001b[1;33m,\u001b[0m \u001b[0mdata_freq\u001b[0m\u001b[1;33m)\u001b[0m\u001b[1;33m\u001b[0m\u001b[1;33m\u001b[0m\u001b[0m\n\u001b[0;32m      5\u001b[0m \u001b[0mcount_freq\u001b[0m\u001b[1;33m(\u001b[0m\u001b[0mval\u001b[0m\u001b[1;33m,\u001b[0m \u001b[0mdata_freq\u001b[0m\u001b[1;33m)\u001b[0m\u001b[1;33m\u001b[0m\u001b[1;33m\u001b[0m\u001b[0m\n",
      "\u001b[1;32m<ipython-input-20-71c044e90374>\u001b[0m in \u001b[0;36mcount_freq\u001b[1;34m(data, di)\u001b[0m\n\u001b[0;32m      5\u001b[0m                 \u001b[0mdi\u001b[0m\u001b[1;33m[\u001b[0m\u001b[1;34m'1'\u001b[0m\u001b[1;33m]\u001b[0m\u001b[1;33m[\u001b[0m\u001b[0mrow\u001b[0m\u001b[1;33m[\u001b[0m\u001b[1;34m'gold_label'\u001b[0m\u001b[1;33m]\u001b[0m\u001b[1;33m]\u001b[0m\u001b[1;33m[\u001b[0m\u001b[0mlemma\u001b[0m\u001b[1;33m]\u001b[0m \u001b[1;33m+=\u001b[0m \u001b[1;36m1\u001b[0m\u001b[1;33m\u001b[0m\u001b[1;33m\u001b[0m\u001b[0m\n\u001b[0;32m      6\u001b[0m         \u001b[1;32mfor\u001b[0m \u001b[0mlemma\u001b[0m \u001b[1;32min\u001b[0m \u001b[0mrow\u001b[0m\u001b[1;33m[\u001b[0m\u001b[1;34m'sentence2_lemmas'\u001b[0m\u001b[1;33m]\u001b[0m\u001b[1;33m:\u001b[0m\u001b[1;33m\u001b[0m\u001b[1;33m\u001b[0m\u001b[0m\n\u001b[1;32m----> 7\u001b[1;33m             \u001b[1;32mif\u001b[0m \u001b[0mlemma\u001b[0m \u001b[1;32mnot\u001b[0m \u001b[1;32min\u001b[0m \u001b[0mstopwords\u001b[0m\u001b[1;33m.\u001b[0m\u001b[0mwords\u001b[0m\u001b[1;33m(\u001b[0m\u001b[1;34m'english'\u001b[0m\u001b[1;33m)\u001b[0m\u001b[1;33m:\u001b[0m\u001b[1;33m\u001b[0m\u001b[1;33m\u001b[0m\u001b[0m\n\u001b[0m\u001b[0;32m      8\u001b[0m                 \u001b[0mdi\u001b[0m\u001b[1;33m[\u001b[0m\u001b[1;34m'2'\u001b[0m\u001b[1;33m]\u001b[0m\u001b[1;33m[\u001b[0m\u001b[0mrow\u001b[0m\u001b[1;33m[\u001b[0m\u001b[1;34m'gold_label'\u001b[0m\u001b[1;33m]\u001b[0m\u001b[1;33m]\u001b[0m\u001b[1;33m[\u001b[0m\u001b[0mlemma\u001b[0m\u001b[1;33m]\u001b[0m \u001b[1;33m+=\u001b[0m \u001b[1;36m1\u001b[0m\u001b[1;33m\u001b[0m\u001b[1;33m\u001b[0m\u001b[0m\n",
      "\u001b[1;32mc:\\users\\julia\\appdata\\local\\programs\\python\\python38\\lib\\site-packages\\nltk\\corpus\\reader\\wordlist.py\u001b[0m in \u001b[0;36mwords\u001b[1;34m(self, fileids, ignore_lines_startswith)\u001b[0m\n\u001b[0;32m     21\u001b[0m         return [\n\u001b[0;32m     22\u001b[0m             \u001b[0mline\u001b[0m\u001b[1;33m\u001b[0m\u001b[1;33m\u001b[0m\u001b[0m\n\u001b[1;32m---> 23\u001b[1;33m             \u001b[1;32mfor\u001b[0m \u001b[0mline\u001b[0m \u001b[1;32min\u001b[0m \u001b[0mline_tokenize\u001b[0m\u001b[1;33m(\u001b[0m\u001b[0mself\u001b[0m\u001b[1;33m.\u001b[0m\u001b[0mraw\u001b[0m\u001b[1;33m(\u001b[0m\u001b[0mfileids\u001b[0m\u001b[1;33m)\u001b[0m\u001b[1;33m)\u001b[0m\u001b[1;33m\u001b[0m\u001b[1;33m\u001b[0m\u001b[0m\n\u001b[0m\u001b[0;32m     24\u001b[0m             \u001b[1;32mif\u001b[0m \u001b[1;32mnot\u001b[0m \u001b[0mline\u001b[0m\u001b[1;33m.\u001b[0m\u001b[0mstartswith\u001b[0m\u001b[1;33m(\u001b[0m\u001b[0mignore_lines_startswith\u001b[0m\u001b[1;33m)\u001b[0m\u001b[1;33m\u001b[0m\u001b[1;33m\u001b[0m\u001b[0m\n\u001b[0;32m     25\u001b[0m         ]\n",
      "\u001b[1;32mc:\\users\\julia\\appdata\\local\\programs\\python\\python38\\lib\\site-packages\\nltk\\corpus\\reader\\wordlist.py\u001b[0m in \u001b[0;36mraw\u001b[1;34m(self, fileids)\u001b[0m\n\u001b[0;32m     30\u001b[0m         \u001b[1;32melif\u001b[0m \u001b[0misinstance\u001b[0m\u001b[1;33m(\u001b[0m\u001b[0mfileids\u001b[0m\u001b[1;33m,\u001b[0m \u001b[0mstr\u001b[0m\u001b[1;33m)\u001b[0m\u001b[1;33m:\u001b[0m\u001b[1;33m\u001b[0m\u001b[1;33m\u001b[0m\u001b[0m\n\u001b[0;32m     31\u001b[0m             \u001b[0mfileids\u001b[0m \u001b[1;33m=\u001b[0m \u001b[1;33m[\u001b[0m\u001b[0mfileids\u001b[0m\u001b[1;33m]\u001b[0m\u001b[1;33m\u001b[0m\u001b[1;33m\u001b[0m\u001b[0m\n\u001b[1;32m---> 32\u001b[1;33m         \u001b[1;32mreturn\u001b[0m \u001b[0mconcat\u001b[0m\u001b[1;33m(\u001b[0m\u001b[1;33m[\u001b[0m\u001b[0mself\u001b[0m\u001b[1;33m.\u001b[0m\u001b[0mopen\u001b[0m\u001b[1;33m(\u001b[0m\u001b[0mf\u001b[0m\u001b[1;33m)\u001b[0m\u001b[1;33m.\u001b[0m\u001b[0mread\u001b[0m\u001b[1;33m(\u001b[0m\u001b[1;33m)\u001b[0m \u001b[1;32mfor\u001b[0m \u001b[0mf\u001b[0m \u001b[1;32min\u001b[0m \u001b[0mfileids\u001b[0m\u001b[1;33m]\u001b[0m\u001b[1;33m)\u001b[0m\u001b[1;33m\u001b[0m\u001b[1;33m\u001b[0m\u001b[0m\n\u001b[0m\u001b[0;32m     33\u001b[0m \u001b[1;33m\u001b[0m\u001b[0m\n\u001b[0;32m     34\u001b[0m \u001b[1;33m\u001b[0m\u001b[0m\n",
      "\u001b[1;32mc:\\users\\julia\\appdata\\local\\programs\\python\\python38\\lib\\site-packages\\nltk\\corpus\\reader\\wordlist.py\u001b[0m in \u001b[0;36m<listcomp>\u001b[1;34m(.0)\u001b[0m\n\u001b[0;32m     30\u001b[0m         \u001b[1;32melif\u001b[0m \u001b[0misinstance\u001b[0m\u001b[1;33m(\u001b[0m\u001b[0mfileids\u001b[0m\u001b[1;33m,\u001b[0m \u001b[0mstr\u001b[0m\u001b[1;33m)\u001b[0m\u001b[1;33m:\u001b[0m\u001b[1;33m\u001b[0m\u001b[1;33m\u001b[0m\u001b[0m\n\u001b[0;32m     31\u001b[0m             \u001b[0mfileids\u001b[0m \u001b[1;33m=\u001b[0m \u001b[1;33m[\u001b[0m\u001b[0mfileids\u001b[0m\u001b[1;33m]\u001b[0m\u001b[1;33m\u001b[0m\u001b[1;33m\u001b[0m\u001b[0m\n\u001b[1;32m---> 32\u001b[1;33m         \u001b[1;32mreturn\u001b[0m \u001b[0mconcat\u001b[0m\u001b[1;33m(\u001b[0m\u001b[1;33m[\u001b[0m\u001b[0mself\u001b[0m\u001b[1;33m.\u001b[0m\u001b[0mopen\u001b[0m\u001b[1;33m(\u001b[0m\u001b[0mf\u001b[0m\u001b[1;33m)\u001b[0m\u001b[1;33m.\u001b[0m\u001b[0mread\u001b[0m\u001b[1;33m(\u001b[0m\u001b[1;33m)\u001b[0m \u001b[1;32mfor\u001b[0m \u001b[0mf\u001b[0m \u001b[1;32min\u001b[0m \u001b[0mfileids\u001b[0m\u001b[1;33m]\u001b[0m\u001b[1;33m)\u001b[0m\u001b[1;33m\u001b[0m\u001b[1;33m\u001b[0m\u001b[0m\n\u001b[0m\u001b[0;32m     33\u001b[0m \u001b[1;33m\u001b[0m\u001b[0m\n\u001b[0;32m     34\u001b[0m \u001b[1;33m\u001b[0m\u001b[0m\n",
      "\u001b[1;32mc:\\users\\julia\\appdata\\local\\programs\\python\\python38\\lib\\site-packages\\nltk\\corpus\\reader\\api.py\u001b[0m in \u001b[0;36mopen\u001b[1;34m(self, file)\u001b[0m\n\u001b[0;32m    206\u001b[0m         \"\"\"\n\u001b[0;32m    207\u001b[0m         \u001b[0mencoding\u001b[0m \u001b[1;33m=\u001b[0m \u001b[0mself\u001b[0m\u001b[1;33m.\u001b[0m\u001b[0mencoding\u001b[0m\u001b[1;33m(\u001b[0m\u001b[0mfile\u001b[0m\u001b[1;33m)\u001b[0m\u001b[1;33m\u001b[0m\u001b[1;33m\u001b[0m\u001b[0m\n\u001b[1;32m--> 208\u001b[1;33m         \u001b[0mstream\u001b[0m \u001b[1;33m=\u001b[0m \u001b[0mself\u001b[0m\u001b[1;33m.\u001b[0m\u001b[0m_root\u001b[0m\u001b[1;33m.\u001b[0m\u001b[0mjoin\u001b[0m\u001b[1;33m(\u001b[0m\u001b[0mfile\u001b[0m\u001b[1;33m)\u001b[0m\u001b[1;33m.\u001b[0m\u001b[0mopen\u001b[0m\u001b[1;33m(\u001b[0m\u001b[0mencoding\u001b[0m\u001b[1;33m)\u001b[0m\u001b[1;33m\u001b[0m\u001b[1;33m\u001b[0m\u001b[0m\n\u001b[0m\u001b[0;32m    209\u001b[0m         \u001b[1;32mreturn\u001b[0m \u001b[0mstream\u001b[0m\u001b[1;33m\u001b[0m\u001b[1;33m\u001b[0m\u001b[0m\n\u001b[0;32m    210\u001b[0m \u001b[1;33m\u001b[0m\u001b[0m\n",
      "\u001b[1;32mc:\\users\\julia\\appdata\\local\\programs\\python\\python38\\lib\\site-packages\\nltk\\data.py\u001b[0m in \u001b[0;36mopen\u001b[1;34m(self, encoding)\u001b[0m\n\u001b[0;32m    325\u001b[0m \u001b[1;33m\u001b[0m\u001b[0m\n\u001b[0;32m    326\u001b[0m     \u001b[1;32mdef\u001b[0m \u001b[0mopen\u001b[0m\u001b[1;33m(\u001b[0m\u001b[0mself\u001b[0m\u001b[1;33m,\u001b[0m \u001b[0mencoding\u001b[0m\u001b[1;33m=\u001b[0m\u001b[1;32mNone\u001b[0m\u001b[1;33m)\u001b[0m\u001b[1;33m:\u001b[0m\u001b[1;33m\u001b[0m\u001b[1;33m\u001b[0m\u001b[0m\n\u001b[1;32m--> 327\u001b[1;33m         \u001b[0mstream\u001b[0m \u001b[1;33m=\u001b[0m \u001b[0mopen\u001b[0m\u001b[1;33m(\u001b[0m\u001b[0mself\u001b[0m\u001b[1;33m.\u001b[0m\u001b[0m_path\u001b[0m\u001b[1;33m,\u001b[0m \u001b[1;34m\"rb\"\u001b[0m\u001b[1;33m)\u001b[0m\u001b[1;33m\u001b[0m\u001b[1;33m\u001b[0m\u001b[0m\n\u001b[0m\u001b[0;32m    328\u001b[0m         \u001b[1;32mif\u001b[0m \u001b[0mencoding\u001b[0m \u001b[1;32mis\u001b[0m \u001b[1;32mnot\u001b[0m \u001b[1;32mNone\u001b[0m\u001b[1;33m:\u001b[0m\u001b[1;33m\u001b[0m\u001b[1;33m\u001b[0m\u001b[0m\n\u001b[0;32m    329\u001b[0m             \u001b[0mstream\u001b[0m \u001b[1;33m=\u001b[0m \u001b[0mSeekableUnicodeStreamReader\u001b[0m\u001b[1;33m(\u001b[0m\u001b[0mstream\u001b[0m\u001b[1;33m,\u001b[0m \u001b[0mencoding\u001b[0m\u001b[1;33m)\u001b[0m\u001b[1;33m\u001b[0m\u001b[1;33m\u001b[0m\u001b[0m\n",
      "\u001b[1;31mKeyboardInterrupt\u001b[0m: "
     ]
    }
   ],
   "source": [
    "data_freq = {'1': {'contradiction': collections.Counter(), 'entailment': collections.Counter(), 'neutral': collections.Counter()}, \n",
    "             '2': {'contradiction': collections.Counter(), 'entailment': collections.Counter(), 'neutral': collections.Counter()}}\n",
    "count_freq(train, data_freq)\n",
    "count_freq(test, data_freq)\n",
    "count_freq(val, data_freq)"
   ]
  },
  {
   "cell_type": "code",
   "execution_count": 30,
   "metadata": {},
   "outputs": [],
   "source": [
    "for link in ['contradiction', 'entailment', 'neutral']:\n",
    "    for i in ['1', '2']:\n",
    "        data_freq[i][link] = data_freq[i][link].most_common(10)"
   ]
  },
  {
   "cell_type": "code",
   "execution_count": 31,
   "metadata": {},
   "outputs": [
    {
     "data": {
      "text/plain": [
       "{'1': {'contradiction': [('man', 52550),\n",
       "   ('woman', 27352),\n",
       "   ('two', 26151),\n",
       "   ('wearing', 20872),\n",
       "   ('people', 20740),\n",
       "   ('shirt', 19065),\n",
       "   ('white', 17421),\n",
       "   ('black', 16346),\n",
       "   ('young', 16172),\n",
       "   ('blue', 14959)],\n",
       "  'entailment': [('man', 52651),\n",
       "   ('woman', 27365),\n",
       "   ('two', 26267),\n",
       "   ('wearing', 20953),\n",
       "   ('people', 20770),\n",
       "   ('shirt', 19100),\n",
       "   ('white', 17428),\n",
       "   ('black', 16388),\n",
       "   ('young', 16224),\n",
       "   ('blue', 14984)],\n",
       "  'neutral': [('man', 52405),\n",
       "   ('woman', 27356),\n",
       "   ('two', 26058),\n",
       "   ('wearing', 20874),\n",
       "   ('people', 20821),\n",
       "   ('shirt', 19027),\n",
       "   ('white', 17364),\n",
       "   ('black', 16269),\n",
       "   ('young', 16144),\n",
       "   ('blue', 14915)]},\n",
       " '2': {'contradiction': [('man', 40507),\n",
       "   ('woman', 22412),\n",
       "   ('people', 17479),\n",
       "   ('two', 15583),\n",
       "   ('playing', 10359),\n",
       "   ('sitting', 10318),\n",
       "   ('men', 10105),\n",
       "   ('girl', 9306),\n",
       "   ('boy', 8961),\n",
       "   ('dog', 8488)],\n",
       "  'entailment': [('man', 38892),\n",
       "   ('people', 27671),\n",
       "   ('woman', 19140),\n",
       "   ('two', 17736),\n",
       "   ('outside', 15146),\n",
       "   ('person', 10694),\n",
       "   ('playing', 10350),\n",
       "   ('men', 9142),\n",
       "   ('girl', 8204),\n",
       "   ('wearing', 8100)],\n",
       "  'neutral': [('man', 39217),\n",
       "   ('woman', 19230),\n",
       "   ('people', 17920),\n",
       "   ('two', 14904),\n",
       "   ('playing', 9709),\n",
       "   ('men', 9364),\n",
       "   ('boy', 8956),\n",
       "   ('girl', 8854),\n",
       "   ('dog', 8315),\n",
       "   ('wearing', 6407)]}}"
      ]
     },
     "execution_count": 31,
     "metadata": {},
     "output_type": "execute_result"
    }
   ],
   "source": [
    "data_freq"
   ]
  },
  {
   "cell_type": "code",
   "execution_count": 32,
   "metadata": {},
   "outputs": [],
   "source": [
    "data_words = pd.DataFrame(data_freq)"
   ]
  },
  {
   "cell_type": "code",
   "execution_count": 33,
   "metadata": {},
   "outputs": [
    {
     "data": {
      "text/html": [
       "<div>\n",
       "<style scoped>\n",
       "    .dataframe tbody tr th:only-of-type {\n",
       "        vertical-align: middle;\n",
       "    }\n",
       "\n",
       "    .dataframe tbody tr th {\n",
       "        vertical-align: top;\n",
       "    }\n",
       "\n",
       "    .dataframe thead th {\n",
       "        text-align: right;\n",
       "    }\n",
       "</style>\n",
       "<table border=\"1\" class=\"dataframe\">\n",
       "  <thead>\n",
       "    <tr style=\"text-align: right;\">\n",
       "      <th></th>\n",
       "      <th>1</th>\n",
       "      <th>2</th>\n",
       "    </tr>\n",
       "  </thead>\n",
       "  <tbody>\n",
       "    <tr>\n",
       "      <th>contradiction</th>\n",
       "      <td>[(man, 52550), (woman, 27352), (two, 26151), (...</td>\n",
       "      <td>[(man, 40507), (woman, 22412), (people, 17479)...</td>\n",
       "    </tr>\n",
       "    <tr>\n",
       "      <th>entailment</th>\n",
       "      <td>[(man, 52651), (woman, 27365), (two, 26267), (...</td>\n",
       "      <td>[(man, 38892), (people, 27671), (woman, 19140)...</td>\n",
       "    </tr>\n",
       "    <tr>\n",
       "      <th>neutral</th>\n",
       "      <td>[(man, 52405), (woman, 27356), (two, 26058), (...</td>\n",
       "      <td>[(man, 39217), (woman, 19230), (people, 17920)...</td>\n",
       "    </tr>\n",
       "  </tbody>\n",
       "</table>\n",
       "</div>"
      ],
      "text/plain": [
       "                                                               1  \\\n",
       "contradiction  [(man, 52550), (woman, 27352), (two, 26151), (...   \n",
       "entailment     [(man, 52651), (woman, 27365), (two, 26267), (...   \n",
       "neutral        [(man, 52405), (woman, 27356), (two, 26058), (...   \n",
       "\n",
       "                                                               2  \n",
       "contradiction  [(man, 40507), (woman, 22412), (people, 17479)...  \n",
       "entailment     [(man, 38892), (people, 27671), (woman, 19140)...  \n",
       "neutral        [(man, 39217), (woman, 19230), (people, 17920)...  "
      ]
     },
     "execution_count": 33,
     "metadata": {},
     "output_type": "execute_result"
    }
   ],
   "source": [
    "data_words"
   ]
  },
  {
   "cell_type": "code",
   "execution_count": 43,
   "metadata": {},
   "outputs": [
    {
     "data": {
      "text/plain": [
       "{'man': 52550,\n",
       " 'woman': 27352,\n",
       " 'two': 26151,\n",
       " 'wearing': 20872,\n",
       " 'people': 20740,\n",
       " 'shirt': 19065,\n",
       " 'white': 17421,\n",
       " 'black': 16346,\n",
       " 'young': 16172,\n",
       " 'blue': 14959}"
      ]
     },
     "execution_count": 43,
     "metadata": {},
     "output_type": "execute_result"
    }
   ],
   "source": [
    "dict(data_words['1']['contradiction'])"
   ]
  },
  {
   "cell_type": "code",
   "execution_count": null,
   "metadata": {},
   "outputs": [],
   "source": [
    "data_freq_1 = {'1': {'contradiction': {}, 'entailment': {}, 'neutral': {}}, \n",
    "             '2': {'contradiction': {}, 'entailment': {}, 'neutral': {}}}"
   ]
  },
  {
   "cell_type": "code",
   "execution_count": 44,
   "metadata": {},
   "outputs": [],
   "source": [
    "data_freq_1 = {'1': {'contradiction': {}, 'entailment': {}, 'neutral': {}}, \n",
    "             '2': {'contradiction': {}, 'entailment': {}, 'neutral': {}}}\n",
    "for link in ['contradiction', 'entailment', 'neutral']:\n",
    "    for i in ['1', '2']:\n",
    "        #data_freq[i][link] = data_freq[i][link].most_common(10)\n",
    "        data_freq_1[i][link] = dict(data_words[i][link])"
   ]
  },
  {
   "cell_type": "code",
   "execution_count": 49,
   "metadata": {},
   "outputs": [],
   "source": [
    "df6 = pd.DataFrame(data_freq_1['1'])"
   ]
  },
  {
   "cell_type": "code",
   "execution_count": 50,
   "metadata": {},
   "outputs": [],
   "source": [
    "df7 = pd.DataFrame(data_freq_1['2'])"
   ]
  },
  {
   "cell_type": "code",
   "execution_count": 53,
   "metadata": {},
   "outputs": [
    {
     "data": {
      "text/plain": [
       "52550"
      ]
     },
     "execution_count": 53,
     "metadata": {},
     "output_type": "execute_result"
    }
   ],
   "source": [
    "df6['contradiction']['man']"
   ]
  },
  {
   "cell_type": "code",
   "execution_count": 54,
   "metadata": {},
   "outputs": [],
   "source": [
    "w = {'label': [], 'word': [], 'total': []}\n",
    "for label in ['contradiction', 'entailment', 'neutral']:\n",
    "    for word in df6.index:\n",
    "        w['label'].append(label)\n",
    "        w['word'].append(word)\n",
    "        w['total'].append(df6[label][word])"
   ]
  },
  {
   "cell_type": "code",
   "execution_count": 57,
   "metadata": {},
   "outputs": [],
   "source": [
    "df8 = pd.DataFrame(w)"
   ]
  },
  {
   "cell_type": "code",
   "execution_count": 78,
   "metadata": {},
   "outputs": [
    {
     "data": {
      "image/png": "[encoded data removed]",
      "text/plain": [
       "<Figure size 1440x648 with 1 Axes>"
      ]
     },
     "metadata": {
      "needs_background": "light"
     },
     "output_type": "display_data"
    }
   ],
   "source": [
    "plt.figure(figsize=(20, 9))\n",
    "ax = sns.barplot(x=\"word\", y=\"total\", data=df8, palette='winter')\n",
    "ax.set_xlabel(\"words\",fontsize=30)\n",
    "ax.set_ylabel(\"number of words\",fontsize=30)\n",
    "ax.tick_params(labelsize=25)\n",
    "plt.title('Most frequent words in sentence 1', fontsize=50);"
   ]
  },
  {
   "cell_type": "code",
   "execution_count": 62,
   "metadata": {},
   "outputs": [],
   "source": [
    "w_1 = {'label': [], 'word': [], 'total': []}\n",
    "for label in ['contradiction', 'entailment', 'neutral']:\n",
    "    for word in df7.index:\n",
    "        w_1['label'].append(label)\n",
    "        w_1['word'].append(word)\n",
    "        w_1['total'].append(df7[label][word])\n",
    "\n",
    "df9 = pd.DataFrame(w_1)"
   ]
  },
  {
   "cell_type": "code",
   "execution_count": 80,
   "metadata": {},
   "outputs": [
    {
     "data": {
      "image/png": "[encoded data removed]",
      "text/plain": [
       "<Figure size 1440x648 with 1 Axes>"
      ]
     },
     "metadata": {
      "needs_background": "light"
     },
     "output_type": "display_data"
    }
   ],
   "source": [
    "plt.figure(figsize=(20, 9))\n",
    "ax = sns.barplot(x=\"word\", y=\"total\", hue='label', data=df9, palette='winter')\n",
    "ax.set_xlabel(\"words\",fontsize=30)\n",
    "ax.set_ylabel(\"number of words\",fontsize=30)\n",
    "ax.tick_params(labelsize=22)\n",
    "plt.setp(ax.get_legend().get_texts(), fontsize='22') # for legend text\n",
    "plt.setp(ax.get_legend().get_title(), fontsize='32') # for legend title\n",
    "plt.title('Most frequent words in sentence 2', fontsize=50);\n"
   ]
  },
  {
   "cell_type": "code",
   "execution_count": 85,
   "metadata": {},
   "outputs": [
    {
     "data": {
      "text/plain": [
       "{'1': {'contradiction': Counter({'DT': 450884,\n",
       "           'NN': 615832,\n",
       "           'IN': 362453,\n",
       "           'VBZ': 103768,\n",
       "           'JJ': 224224,\n",
       "           'NNP': 21211,\n",
       "           'VBG': 170884,\n",
       "           'CC': 60688,\n",
       "           'JJR': 3804,\n",
       "           'NNS': 152453,\n",
       "           'VBP': 49023,\n",
       "           'CD': 47593,\n",
       "           'PRP': 15848,\n",
       "           'RP': 21840,\n",
       "           'WP': 2947,\n",
       "           'RB': 22924,\n",
       "           'VBD': 12106,\n",
       "           'UH': 293,\n",
       "           'TO': 22435,\n",
       "           'VB': 14355,\n",
       "           'WRB': 870,\n",
       "           'VBN': 20205,\n",
       "           'NNPS': 692,\n",
       "           'EX': 2069,\n",
       "           'FW': 278,\n",
       "           'MD': 549,\n",
       "           'WDT': 3920,\n",
       "           'JJS': 179,\n",
       "           'PDT': 116,\n",
       "           'RBR': 51,\n",
       "           'SYM': 22,\n",
       "           'RBS': 40,\n",
       "           'LS': 20}),\n",
       "  'entailment': Counter({'DT': 451838,\n",
       "           'NN': 617205,\n",
       "           'IN': 363237,\n",
       "           'VBZ': 103908,\n",
       "           'JJ': 224778,\n",
       "           'NNP': 21236,\n",
       "           'VBG': 171261,\n",
       "           'CC': 60844,\n",
       "           'CD': 47788,\n",
       "           'NNS': 152900,\n",
       "           'VBP': 49208,\n",
       "           'PRP': 15871,\n",
       "           'JJR': 3814,\n",
       "           'RP': 21886,\n",
       "           'WP': 2960,\n",
       "           'RB': 23029,\n",
       "           'VBD': 12174,\n",
       "           'UH': 294,\n",
       "           'TO': 22463,\n",
       "           'VB': 14414,\n",
       "           'WRB': 884,\n",
       "           'VBN': 20262,\n",
       "           'NNPS': 693,\n",
       "           'EX': 2079,\n",
       "           'FW': 278,\n",
       "           'MD': 553,\n",
       "           'WDT': 3922,\n",
       "           'JJS': 179,\n",
       "           'PDT': 114,\n",
       "           'RBR': 52,\n",
       "           'SYM': 24,\n",
       "           'RBS': 39,\n",
       "           'LS': 20}),\n",
       "  'neutral': Counter({'DT': 449446,\n",
       "           'NN': 613928,\n",
       "           'IN': 361464,\n",
       "           'VBZ': 103298,\n",
       "           'JJ': 223418,\n",
       "           'NNP': 21128,\n",
       "           'VBG': 170419,\n",
       "           'CC': 60543,\n",
       "           'JJR': 3792,\n",
       "           'NNS': 152204,\n",
       "           'VBP': 48977,\n",
       "           'CD': 47441,\n",
       "           'PRP': 15785,\n",
       "           'RP': 21745,\n",
       "           'WP': 2925,\n",
       "           'RB': 22792,\n",
       "           'VBD': 12033,\n",
       "           'UH': 289,\n",
       "           'TO': 22384,\n",
       "           'VB': 14321,\n",
       "           'WRB': 862,\n",
       "           'VBN': 20173,\n",
       "           'NNPS': 698,\n",
       "           'EX': 2060,\n",
       "           'FW': 277,\n",
       "           'MD': 553,\n",
       "           'WDT': 3928,\n",
       "           'JJS': 182,\n",
       "           'PDT': 116,\n",
       "           'RBR': 53,\n",
       "           'SYM': 23,\n",
       "           'RBS': 41,\n",
       "           'LS': 20})},\n",
       " '2': {'contradiction': Counter({'DT': 291166,\n",
       "           'NN': 358541,\n",
       "           'VBZ': 109541,\n",
       "           'IN': 143981,\n",
       "           'VBG': 121256,\n",
       "           'NNS': 92485,\n",
       "           'VBP': 53791,\n",
       "           'RP': 10627,\n",
       "           'CD': 24507,\n",
       "           'JJ': 62991,\n",
       "           'VBD': 11208,\n",
       "           'NNP': 11927,\n",
       "           'RB': 23467,\n",
       "           'VB': 9737,\n",
       "           'WP': 512,\n",
       "           'PRP': 7136,\n",
       "           'CC': 12255,\n",
       "           'TO': 11167,\n",
       "           'EX': 5491,\n",
       "           'NNPS': 660,\n",
       "           'VBN': 8642,\n",
       "           'FW': 256,\n",
       "           'PDT': 251,\n",
       "           'UH': 152,\n",
       "           'MD': 703,\n",
       "           'WDT': 493,\n",
       "           'WRB': 528,\n",
       "           'JJS': 133,\n",
       "           'JJR': 748,\n",
       "           'RBR': 31,\n",
       "           'LS': 3,\n",
       "           'SYM': 23,\n",
       "           'RBS': 15}),\n",
       "  'entailment': Counter({'DT': 256963,\n",
       "           'NN': 311336,\n",
       "           'VBZ': 103957,\n",
       "           'RB': 27036,\n",
       "           'IN': 124441,\n",
       "           'EX': 14914,\n",
       "           'VBP': 57441,\n",
       "           'NNS': 95041,\n",
       "           'NNP': 9327,\n",
       "           'VBG': 101580,\n",
       "           'JJ': 56776,\n",
       "           'CD': 26009,\n",
       "           'VB': 6558,\n",
       "           'TO': 9121,\n",
       "           'RP': 7841,\n",
       "           'PRP': 5583,\n",
       "           'CC': 11947,\n",
       "           'VBN': 9731,\n",
       "           'VBD': 7471,\n",
       "           'NNPS': 632,\n",
       "           'JJR': 1249,\n",
       "           'WDT': 697,\n",
       "           'WP': 700,\n",
       "           'UH': 129,\n",
       "           'WRB': 404,\n",
       "           'JJS': 426,\n",
       "           'FW': 136,\n",
       "           'PDT': 39,\n",
       "           'RBR': 56,\n",
       "           'MD': 577,\n",
       "           'SYM': 19,\n",
       "           'LS': 2,\n",
       "           'RBS': 3}),\n",
       "  'neutral': Counter({'DT': 302873,\n",
       "           'NN': 390640,\n",
       "           'VBZ': 110181,\n",
       "           'VBG': 116980,\n",
       "           'IN': 162957,\n",
       "           'PRP': 15369,\n",
       "           'VBP': 56511,\n",
       "           'NNS': 101435,\n",
       "           'JJR': 1329,\n",
       "           'TO': 30782,\n",
       "           'VB': 26120,\n",
       "           'RP': 11084,\n",
       "           'JJ': 87141,\n",
       "           'RB': 21074,\n",
       "           'VBN': 12935,\n",
       "           'CD': 23140,\n",
       "           'CC': 14971,\n",
       "           'VBD': 13627,\n",
       "           'NNP': 15973,\n",
       "           'WP': 1357,\n",
       "           'WDT': 1192,\n",
       "           'NNPS': 929,\n",
       "           'EX': 4340,\n",
       "           'WRB': 1273,\n",
       "           'MD': 1642,\n",
       "           'PDT': 165,\n",
       "           'JJS': 697,\n",
       "           'UH': 150,\n",
       "           'FW': 800,\n",
       "           'SYM': 40,\n",
       "           'RBR': 185,\n",
       "           'RBS': 50,\n",
       "           'LS': 4})}}"
      ]
     },
     "execution_count": 85,
     "metadata": {},
     "output_type": "execute_result"
    }
   ],
   "source": [
    "data_pos"
   ]
  },
  {
   "cell_type": "code",
   "execution_count": 86,
   "metadata": {},
   "outputs": [],
   "source": [
    "for link in ['contradiction', 'entailment', 'neutral']:\n",
    "    for i in ['1', '2']:\n",
    "        data_pos[i][link] = data_pos[i][link].most_common(10)"
   ]
  },
  {
   "cell_type": "code",
   "execution_count": 87,
   "metadata": {},
   "outputs": [],
   "source": [
    "data_pos_pd = pd.DataFrame(data_pos)"
   ]
  },
  {
   "cell_type": "code",
   "execution_count": 88,
   "metadata": {},
   "outputs": [],
   "source": [
    "data_pos_1 = {'1': {'contradiction': {}, 'entailment': {}, 'neutral': {}}, \n",
    "             '2': {'contradiction': {}, 'entailment': {}, 'neutral': {}}}\n",
    "for link in ['contradiction', 'entailment', 'neutral']:\n",
    "    for i in ['1', '2']:\n",
    "        data_pos_1[i][link] = dict(data_pos_pd[i][link])"
   ]
  },
  {
   "cell_type": "code",
   "execution_count": 89,
   "metadata": {},
   "outputs": [
    {
     "data": {
      "text/plain": [
       "{'1': {'contradiction': {'NN': 615832,\n",
       "   'DT': 450884,\n",
       "   'IN': 362453,\n",
       "   'JJ': 224224,\n",
       "   'VBG': 170884,\n",
       "   'NNS': 152453,\n",
       "   'VBZ': 103768,\n",
       "   'CC': 60688,\n",
       "   'VBP': 49023,\n",
       "   'CD': 47593},\n",
       "  'entailment': {'NN': 617205,\n",
       "   'DT': 451838,\n",
       "   'IN': 363237,\n",
       "   'JJ': 224778,\n",
       "   'VBG': 171261,\n",
       "   'NNS': 152900,\n",
       "   'VBZ': 103908,\n",
       "   'CC': 60844,\n",
       "   'VBP': 49208,\n",
       "   'CD': 47788},\n",
       "  'neutral': {'NN': 613928,\n",
       "   'DT': 449446,\n",
       "   'IN': 361464,\n",
       "   'JJ': 223418,\n",
       "   'VBG': 170419,\n",
       "   'NNS': 152204,\n",
       "   'VBZ': 103298,\n",
       "   'CC': 60543,\n",
       "   'VBP': 48977,\n",
       "   'CD': 47441}},\n",
       " '2': {'contradiction': {'NN': 358541,\n",
       "   'DT': 291166,\n",
       "   'IN': 143981,\n",
       "   'VBG': 121256,\n",
       "   'VBZ': 109541,\n",
       "   'NNS': 92485,\n",
       "   'JJ': 62991,\n",
       "   'VBP': 53791,\n",
       "   'CD': 24507,\n",
       "   'RB': 23467},\n",
       "  'entailment': {'NN': 311336,\n",
       "   'DT': 256963,\n",
       "   'IN': 124441,\n",
       "   'VBZ': 103957,\n",
       "   'VBG': 101580,\n",
       "   'NNS': 95041,\n",
       "   'VBP': 57441,\n",
       "   'JJ': 56776,\n",
       "   'RB': 27036,\n",
       "   'CD': 26009},\n",
       "  'neutral': {'NN': 390640,\n",
       "   'DT': 302873,\n",
       "   'IN': 162957,\n",
       "   'VBG': 116980,\n",
       "   'VBZ': 110181,\n",
       "   'NNS': 101435,\n",
       "   'JJ': 87141,\n",
       "   'VBP': 56511,\n",
       "   'TO': 30782,\n",
       "   'VB': 26120}}}"
      ]
     },
     "execution_count": 89,
     "metadata": {},
     "output_type": "execute_result"
    }
   ],
   "source": [
    "data_pos_1"
   ]
  },
  {
   "cell_type": "code",
   "execution_count": 95,
   "metadata": {},
   "outputs": [],
   "source": [
    "sent1_pos = pd.DataFrame(data_pos_1['1'])"
   ]
  },
  {
   "cell_type": "code",
   "execution_count": 96,
   "metadata": {},
   "outputs": [],
   "source": [
    "sent2_pos = pd.DataFrame(data_pos_1['2'])"
   ]
  },
  {
   "cell_type": "code",
   "execution_count": 97,
   "metadata": {},
   "outputs": [],
   "source": [
    "pos_1 = {'label': [], 'pos': [], 'total': []}\n",
    "for label in ['contradiction', 'entailment', 'neutral']:\n",
    "    for word in sent1_pos.index:\n",
    "        pos_1['label'].append(label)\n",
    "        pos_1['pos'].append(word)\n",
    "        pos_1['total'].append(sent1_pos[label][word])"
   ]
  },
  {
   "cell_type": "code",
   "execution_count": 98,
   "metadata": {},
   "outputs": [],
   "source": [
    "df_1 = pd.DataFrame(pos_1)"
   ]
  },
  {
   "cell_type": "code",
   "execution_count": 99,
   "metadata": {},
   "outputs": [
    {
     "data": {
      "image/png": "[encoded data removed]",
      "text/plain": [
       "<Figure size 1440x648 with 1 Axes>"
      ]
     },
     "metadata": {
      "needs_background": "light"
     },
     "output_type": "display_data"
    }
   ],
   "source": [
    "plt.figure(figsize=(20, 9))\n",
    "ax = sns.barplot(x=\"pos\", y=\"total\", data=df_1, palette='winter')\n",
    "ax.set_xlabel(\"PoS\",fontsize=30)\n",
    "ax.set_ylabel(\"number of PoS\",fontsize=30)\n",
    "ax.tick_params(labelsize=25)\n",
    "plt.title('Most frequent PoS in sentence 1', fontsize=50);\n"
   ]
  },
  {
   "cell_type": "code",
   "execution_count": 100,
   "metadata": {},
   "outputs": [],
   "source": [
    "pos_2 = {'label': [], 'pos': [], 'total': []}\n",
    "for label in ['contradiction', 'entailment', 'neutral']:\n",
    "    for word in sent2_pos.index:\n",
    "        pos_2['label'].append(label)\n",
    "        pos_2['pos'].append(word)\n",
    "        pos_2['total'].append(sent2_pos[label][word])"
   ]
  },
  {
   "cell_type": "code",
   "execution_count": 101,
   "metadata": {},
   "outputs": [],
   "source": [
    "df_2 = pd.DataFrame(pos_2)"
   ]
  },
  {
   "cell_type": "code",
   "execution_count": 102,
   "metadata": {},
   "outputs": [
    {
     "data": {
      "image/png": "[encoded data removed]",
      "text/plain": [
       "<Figure size 1440x648 with 1 Axes>"
      ]
     },
     "metadata": {
      "needs_background": "light"
     },
     "output_type": "display_data"
    }
   ],
   "source": [
    "plt.figure(figsize=(20, 9))\n",
    "ax = sns.barplot(x=\"pos\", y=\"total\", hue='label', data=df_2, palette='winter')\n",
    "ax.set_xlabel(\"PoS\",fontsize=30)\n",
    "ax.set_ylabel(\"number of PoS\",fontsize=30)\n",
    "ax.tick_params(labelsize=22)\n",
    "plt.setp(ax.get_legend().get_texts(), fontsize='22') # for legend text\n",
    "plt.setp(ax.get_legend().get_title(), fontsize='32') # for legend title\n",
    "plt.title('Most frequent PoS in sentence 2', fontsize=50);"
   ]
  },
  {
   "cell_type": "code",
   "execution_count": null,
   "metadata": {},
   "outputs": [],
   "source": []
  }
 ],
 "metadata": {
  "kernelspec": {
   "display_name": "Python 3",
   "language": "python",
   "name": "python3"
  },
  "language_info": {
   "codemirror_mode": {
    "name": "ipython",
    "version": 3
   },
   "file_extension": ".py",
   "mimetype": "text/x-python",
   "name": "python",
   "nbconvert_exporter": "python",
   "pygments_lexer": "ipython3",
   "version": "3.8.5"
  }
 },
 "nbformat": 4,
 "nbformat_minor": 4
}
